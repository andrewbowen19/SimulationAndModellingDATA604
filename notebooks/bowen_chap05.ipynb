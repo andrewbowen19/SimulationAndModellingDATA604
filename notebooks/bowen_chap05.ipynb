{
  "cells": [
    {
      "cell_type": "markdown",
      "metadata": {
        "id": "view-in-github",
        "colab_type": "text"
      },
      "source": [
        "<a href=\"https://colab.research.google.com/github/andrewbowen19/SimulationAndModellingDATA604/blob/master/notebooks/bowen_chap05.ipynb\" target=\"_parent\"><img src=\"https://colab.research.google.com/assets/colab-badge.svg\" alt=\"Open In Colab\"/></a>"
      ]
    },
    {
      "cell_type": "markdown",
      "metadata": {
        "id": "8A7MXv78eHgS"
      },
      "source": [
        "# Modeling and Simulation in Python\n",
        "\n",
        "Chapter 5\n",
        "\n",
        "Copyright 2017 Allen Downey\n",
        "\n",
        "License: [Creative Commons Attribution 4.0 International](https://creativecommons.org/licenses/by/4.0)\n"
      ]
    },
    {
      "cell_type": "code",
      "source": [
        "!pip install --q modsimpy\n",
        "!pip install --q pint"
      ],
      "metadata": {
        "id": "idV9LUW9e5RS"
      },
      "execution_count": null,
      "outputs": []
    },
    {
      "cell_type": "code",
      "execution_count": null,
      "metadata": {
        "id": "j9MTD8qEeHgU"
      },
      "outputs": [],
      "source": [
        "# Configure Jupyter so figures appear in the notebook\n",
        "%matplotlib inline\n",
        "\n",
        "# Configure Jupyter to display the assigned value after an assignment\n",
        "%config InteractiveShell.ast_node_interactivity='last_expr_or_assign'\n",
        "\n",
        "# import functions from the modsim.py module\n",
        "from modsim import *"
      ]
    },
    {
      "cell_type": "markdown",
      "metadata": {
        "id": "JIjEnMLreHgW"
      },
      "source": [
        "## Reading data\n",
        "\n",
        "Pandas is a library that provides tools for reading and processing data.  `read_html` reads a web page from a file or the Internet and creates one `DataFrame` for each table on the page."
      ]
    },
    {
      "cell_type": "code",
      "execution_count": null,
      "metadata": {
        "id": "JlYgpUfPeHgX"
      },
      "outputs": [],
      "source": [
        "from pandas import read_html"
      ]
    },
    {
      "cell_type": "markdown",
      "metadata": {
        "id": "Mgt-WeDEeHgX"
      },
      "source": [
        "The data directory contains a downloaded copy of https://en.wikipedia.org/wiki/World_population_estimates\n",
        "\n",
        "The arguments of `read_html` specify the file to read and how to interpret the tables in the file.  The result, `tables`, is a sequence of `DataFrame` objects; `len(tables)` reports the length of the sequence."
      ]
    },
    {
      "cell_type": "code",
      "execution_count": null,
      "metadata": {
        "id": "onbSrYbreHgX"
      },
      "outputs": [],
      "source": [
        "# Using GitHub upload link\n",
        "filename = 'https://raw.githubusercontent.com/andrewbowen19/SimulationAndModellingDATA604/master/data/World_population_estimates.html'\n",
        "tables = read_html(filename, header=0, index_col=0, decimal='M')\n",
        "len(tables)"
      ]
    },
    {
      "cell_type": "markdown",
      "metadata": {
        "id": "E-EtjxijeHgY"
      },
      "source": [
        "We can select the `DataFrame` we want using the bracket operator.  The tables are numbered from 0, so `tables[2]` is actually the third table on the page.\n",
        "\n",
        "`head` selects the header and the first five rows."
      ]
    },
    {
      "cell_type": "code",
      "execution_count": null,
      "metadata": {
        "scrolled": true,
        "id": "RooSJarweHgY"
      },
      "outputs": [],
      "source": [
        "table2 = tables[2]\n",
        "table2.head()"
      ]
    },
    {
      "cell_type": "markdown",
      "metadata": {
        "id": "Cx6KuucTeHgZ"
      },
      "source": [
        "`tail` selects the last five rows."
      ]
    },
    {
      "cell_type": "code",
      "execution_count": null,
      "metadata": {
        "id": "x75RY85TeHgZ"
      },
      "outputs": [],
      "source": [
        "table2.tail()"
      ]
    },
    {
      "cell_type": "markdown",
      "metadata": {
        "id": "FFGhGVtVeHga"
      },
      "source": [
        "Long column names are awkard to work with, but we can replace them with abbreviated names."
      ]
    },
    {
      "cell_type": "code",
      "execution_count": null,
      "metadata": {
        "id": "eEs60prleHga"
      },
      "outputs": [],
      "source": [
        "table2.columns = ['census', 'prb', 'un', 'maddison', \n",
        "                  'hyde', 'tanton', 'biraben', 'mj', \n",
        "                  'thomlinson', 'durand', 'clark']"
      ]
    },
    {
      "cell_type": "markdown",
      "metadata": {
        "id": "yzVSujULeHgb"
      },
      "source": [
        "Here's what the DataFrame looks like now.  "
      ]
    },
    {
      "cell_type": "code",
      "execution_count": null,
      "metadata": {
        "id": "cDmwTGf0eHgb"
      },
      "outputs": [],
      "source": [
        "table2.head()"
      ]
    },
    {
      "cell_type": "markdown",
      "metadata": {
        "id": "IYPiXmLseHgb"
      },
      "source": [
        "The first column, which is labeled `Year`, is special.  It is the **index** for this `DataFrame`, which means it contains the labels for the rows.\n",
        "\n",
        "Some of the values use scientific notation; for example, `2.544000e+09` is shorthand for $2.544 \\cdot 10^9$ or 2.544 billion.\n",
        "\n",
        "`NaN` is a special value that indicates missing data."
      ]
    },
    {
      "cell_type": "markdown",
      "metadata": {
        "id": "q_qGVZkJeHgc"
      },
      "source": [
        "### Series\n",
        "\n",
        "We can use dot notation to select a column from a `DataFrame`.  The result is a `Series`, which is like a `DataFrame` with a single column."
      ]
    },
    {
      "cell_type": "code",
      "execution_count": null,
      "metadata": {
        "id": "u04seD0qeHgc"
      },
      "outputs": [],
      "source": [
        "census = table2.census\n",
        "census.head()"
      ]
    },
    {
      "cell_type": "code",
      "execution_count": null,
      "metadata": {
        "id": "uaJWSJmMeHgc"
      },
      "outputs": [],
      "source": [
        "census.tail()"
      ]
    },
    {
      "cell_type": "markdown",
      "metadata": {
        "id": "zx7aCLPteHgd"
      },
      "source": [
        "Like a `DataFrame`, a `Series` contains an index, which labels the rows.\n",
        "\n",
        "`1e9` is scientific notation for $1 \\cdot 10^9$ or 1 billion."
      ]
    },
    {
      "cell_type": "markdown",
      "metadata": {
        "id": "EcrNx1dfeHgd"
      },
      "source": [
        "From here on, we will work in units of billions."
      ]
    },
    {
      "cell_type": "code",
      "execution_count": null,
      "metadata": {
        "id": "rU3V2aVQeHgd"
      },
      "outputs": [],
      "source": [
        "un = table2.un / 1e9\n",
        "un.head()"
      ]
    },
    {
      "cell_type": "code",
      "execution_count": null,
      "metadata": {
        "id": "iRKgWvW7eHgd"
      },
      "outputs": [],
      "source": [
        "census = table2.census / 1e9\n",
        "census.head()"
      ]
    },
    {
      "cell_type": "markdown",
      "metadata": {
        "id": "696Bw9OVeHgd"
      },
      "source": [
        "Here's what these estimates look like."
      ]
    },
    {
      "cell_type": "code",
      "execution_count": null,
      "metadata": {
        "scrolled": false,
        "id": "G_rQETq3eHge"
      },
      "outputs": [],
      "source": [
        "plot(census, ':', label='US Census')\n",
        "plot(un, '--', label='UN DESA')\n",
        "    \n",
        "decorate(xlabel='Year',\n",
        "         ylabel='World population (billion)')\n",
        "\n",
        "# Can save figure to local env\n",
        "# savefig('figs/chap05-fig01.pdf')"
      ]
    },
    {
      "cell_type": "markdown",
      "metadata": {
        "id": "J5Y08Ao_eHge"
      },
      "source": [
        "The following expression computes the elementwise differences between the two series, then divides through by the UN value to produce [relative errors](https://en.wikipedia.org/wiki/Approximation_error), then finds the largest element.\n",
        "\n",
        "So the largest relative error between the estimates is about 1.3%."
      ]
    },
    {
      "cell_type": "code",
      "execution_count": null,
      "metadata": {
        "id": "QTa8O2neeHge"
      },
      "outputs": [],
      "source": [
        "max(abs(census - un) / un) * 100"
      ]
    },
    {
      "cell_type": "markdown",
      "metadata": {
        "id": "sQuLKj0eeHge"
      },
      "source": [
        "**Exercise:** Break down that expression into smaller steps and display the intermediate results, to make sure you understand how it works.\n",
        "\n",
        "1.  Compute the elementwise differences, `census - un`\n",
        "2.  Compute the absolute differences, `abs(census - un)`\n",
        "3.  Compute the relative differences, `abs(census - un) / un`\n",
        "4.  Compute the percent differences, `abs(census - un) / un * 100`\n"
      ]
    },
    {
      "cell_type": "code",
      "execution_count": null,
      "metadata": {
        "scrolled": true,
        "id": "9UJgVjyWeHgf"
      },
      "outputs": [],
      "source": [
        "# Solution goes here\n",
        "e_diff = census - un"
      ]
    },
    {
      "cell_type": "code",
      "execution_count": null,
      "metadata": {
        "scrolled": true,
        "id": "bPX15wx5eHgf"
      },
      "outputs": [],
      "source": [
        "# Solution goes here\n",
        "abs_diff = abs(e_diff)"
      ]
    },
    {
      "cell_type": "code",
      "execution_count": null,
      "metadata": {
        "scrolled": true,
        "id": "zNGIGq4LeHgf"
      },
      "outputs": [],
      "source": [
        "# Solution goes here\n",
        "rel_diff = abs(census - un) / un"
      ]
    },
    {
      "cell_type": "code",
      "execution_count": null,
      "metadata": {
        "id": "8RnbUF4ueHgf"
      },
      "outputs": [],
      "source": [
        "# Solution goes here\n",
        "perc_diff = abs(census - un) / un * 100"
      ]
    },
    {
      "cell_type": "markdown",
      "metadata": {
        "id": "ctyfNQ4ReHgf"
      },
      "source": [
        "`max` and `abs` are built-in functions provided by Python, but NumPy also provides version that are a little more general.  When you import `modsim`, you get the NumPy versions of these functions."
      ]
    },
    {
      "cell_type": "markdown",
      "metadata": {
        "id": "i1mazTdLeHgg"
      },
      "source": [
        "### Constant growth"
      ]
    },
    {
      "cell_type": "markdown",
      "metadata": {
        "id": "L0pHNDsxeHgg"
      },
      "source": [
        "We can select a value from a `Series` using bracket notation.  Here's the first element:"
      ]
    },
    {
      "cell_type": "code",
      "execution_count": null,
      "metadata": {
        "id": "MqxyFW8aeHgg"
      },
      "outputs": [],
      "source": [
        "census[1950]"
      ]
    },
    {
      "cell_type": "markdown",
      "metadata": {
        "id": "ixiiedwseHgg"
      },
      "source": [
        "And the last value."
      ]
    },
    {
      "cell_type": "code",
      "execution_count": null,
      "metadata": {
        "id": "BKpL4GhMeHgh"
      },
      "outputs": [],
      "source": [
        "census[2016]"
      ]
    },
    {
      "cell_type": "markdown",
      "metadata": {
        "id": "D297Y8qkeHgi"
      },
      "source": [
        "But rather than \"hard code\" those dates, we can get the first and last labels from the `Series`:"
      ]
    },
    {
      "cell_type": "code",
      "execution_count": null,
      "metadata": {
        "id": "eO6GnQJreHgi"
      },
      "outputs": [],
      "source": [
        "t_0 = get_first_label(census)"
      ]
    },
    {
      "cell_type": "code",
      "execution_count": null,
      "metadata": {
        "id": "Tq0wtGyneHgi"
      },
      "outputs": [],
      "source": [
        "t_end = get_last_label(census)"
      ]
    },
    {
      "cell_type": "code",
      "execution_count": null,
      "metadata": {
        "id": "ElPeK9LdeHgj"
      },
      "outputs": [],
      "source": [
        "elapsed_time = t_end - t_0"
      ]
    },
    {
      "cell_type": "markdown",
      "metadata": {
        "id": "uIL8wWemeHgj"
      },
      "source": [
        "And we can get the first and last values:"
      ]
    },
    {
      "cell_type": "code",
      "execution_count": null,
      "metadata": {
        "id": "t4ZsFSRXeHgj"
      },
      "outputs": [],
      "source": [
        "p_0 = get_first_value(census)"
      ]
    },
    {
      "cell_type": "code",
      "execution_count": null,
      "metadata": {
        "id": "QX6FSG6LeHgj"
      },
      "outputs": [],
      "source": [
        "p_end = get_last_value(census)"
      ]
    },
    {
      "cell_type": "markdown",
      "metadata": {
        "id": "nt0xgqG2eHgk"
      },
      "source": [
        "Then we can compute the average annual growth in billions of people per year."
      ]
    },
    {
      "cell_type": "code",
      "execution_count": null,
      "metadata": {
        "id": "hBPXSK81eHgk"
      },
      "outputs": [],
      "source": [
        "total_growth = p_end - p_0"
      ]
    },
    {
      "cell_type": "code",
      "execution_count": null,
      "metadata": {
        "id": "-0uC0OVyeHgk"
      },
      "outputs": [],
      "source": [
        "annual_growth = total_growth / elapsed_time"
      ]
    },
    {
      "cell_type": "markdown",
      "metadata": {
        "id": "jCSOGJ-5eHgk"
      },
      "source": [
        "### TimeSeries"
      ]
    },
    {
      "cell_type": "markdown",
      "metadata": {
        "id": "QMCfUMASeHgk"
      },
      "source": [
        "Now let's create a `TimeSeries` to contain values generated by a linear growth model."
      ]
    },
    {
      "cell_type": "code",
      "execution_count": null,
      "metadata": {
        "id": "kWV_NR8feHgk"
      },
      "outputs": [],
      "source": [
        "results = TimeSeries()"
      ]
    },
    {
      "cell_type": "markdown",
      "metadata": {
        "id": "9cZYf5xleHgl"
      },
      "source": [
        "Initially the `TimeSeries` is empty, but we can initialize it so the starting value, in 1950, is the 1950 population estimated by the US Census."
      ]
    },
    {
      "cell_type": "code",
      "execution_count": null,
      "metadata": {
        "id": "O4IYh6CAeHgl"
      },
      "outputs": [],
      "source": [
        "results[t_0] = census[t_0]\n",
        "results"
      ]
    },
    {
      "cell_type": "markdown",
      "metadata": {
        "id": "d8Gs9j1BeHgl"
      },
      "source": [
        "After that, the population in the model grows by a constant amount each year."
      ]
    },
    {
      "cell_type": "code",
      "execution_count": null,
      "metadata": {
        "id": "JWSdBBtXeHgl"
      },
      "outputs": [],
      "source": [
        "for t in linrange(t_0, t_end):\n",
        "    results[t+1] = results[t] + annual_growth"
      ]
    },
    {
      "cell_type": "markdown",
      "metadata": {
        "id": "pyrWuifHeHgm"
      },
      "source": [
        "Here's what the results looks like, compared to the actual data."
      ]
    },
    {
      "cell_type": "code",
      "execution_count": null,
      "metadata": {
        "id": "ezn3D1C4eHgm"
      },
      "outputs": [],
      "source": [
        "plot(census, ':', label='US Census')\n",
        "plot(un, '--', label='UN DESA')\n",
        "plot(results, color='gray', label='model')\n",
        "\n",
        "decorate(xlabel='Year', \n",
        "         ylabel='World population (billion)',\n",
        "         title='Constant growth')\n",
        "\n",
        "# Can save fig by uncommenting below\n",
        "# savefig('figs/chap05-fig02.pdf')"
      ]
    },
    {
      "cell_type": "markdown",
      "metadata": {
        "id": "KaAjcIW1eHgm"
      },
      "source": [
        "The model fits the data pretty well after 1990, but not so well before."
      ]
    },
    {
      "cell_type": "markdown",
      "metadata": {
        "id": "WKxnTA_DeHgm"
      },
      "source": [
        "### Exercises\n",
        "\n",
        "**Optional Exercise:**  Try fitting the model using data from 1970 to the present, and see if that does a better job.\n",
        "\n",
        "Hint: \n",
        "\n",
        "1. Copy the code from above and make a few changes.  Test your code after each small change.\n",
        "\n",
        "2. Make sure your `TimeSeries` starts in 1950, even though the estimated annual growth is based on later data.\n",
        "\n",
        "3. You might want to add a constant to the starting value to match the data better."
      ]
    },
    {
      "cell_type": "code",
      "execution_count": null,
      "metadata": {
        "id": "KoOoeqC0eHgm"
      },
      "outputs": [],
      "source": [
        "# Solution goes here"
      ]
    },
    {
      "cell_type": "code",
      "execution_count": null,
      "metadata": {
        "id": "Vo29kmCTeHgn"
      },
      "outputs": [],
      "source": [
        "census.loc[1960:1970]"
      ]
    },
    {
      "cell_type": "code",
      "execution_count": null,
      "metadata": {
        "id": "kfJNJyPeeHgn"
      },
      "outputs": [],
      "source": [
        "# Constructing the above time series analysis from 1970 onward using census data\n",
        "census_1970 = census.loc[1970:]\n",
        "un_1970 = un.loc[1970:]\n",
        "t_0_1950 = t_0\n",
        "t_0 = get_first_label(census)\n",
        "t_f = get_last_label(census_1970)\n",
        "p_0 = get_first_value(census_1970)\n",
        "p_f = get_last_value(census_1970)"
      ]
    },
    {
      "cell_type": "code",
      "source": [
        "# Calculating average growth\n",
        "timeframe = t_f - t_0\n",
        "growth = p_f - p_0\n",
        "average_growth = growth / timeframe"
      ],
      "metadata": {
        "id": "V2lbGNzhgfTC"
      },
      "execution_count": null,
      "outputs": []
    },
    {
      "cell_type": "code",
      "source": [
        "# Setting up model based on annual growth since 1970\n",
        "results = TimeSeries()\n",
        "results[t_0_1950] = p_0 - 1.2 # Adding a constant value to the model to align to the observed data better\n",
        "\n",
        "# Adding in projected growth\n",
        "for t in linrange(t_0_1950, t_f):\n",
        "    results[t+1] = results[t] + annual_growth\n"
      ],
      "metadata": {
        "id": "ZizZO4tnho_E"
      },
      "execution_count": 43,
      "outputs": []
    },
    {
      "cell_type": "code",
      "source": [
        "plot(census_1970, ':', label='US Census')\n",
        "plot(un_1970, '--', label='UN DESA')\n",
        "plot(results, color='gray', label='model')\n",
        "\n",
        "decorate(xlabel='Year', \n",
        "         ylabel='World population (billion)',\n",
        "         title='Constant growth')"
      ],
      "metadata": {
        "id": "vuCzNWvDg3Zn",
        "colab": {
          "base_uri": "https://localhost:8080/",
          "height": 473
        },
        "outputId": "d21ac06b-74d3-4e9c-86c4-e819362d10ad"
      },
      "execution_count": 44,
      "outputs": [
        {
          "output_type": "display_data",
          "data": {
            "text/plain": [
              "<Figure size 640x480 with 1 Axes>"
            ],
            "image/png": "[encoded data removed]"
          },
          "metadata": {}
        }
      ]
    },
    {
      "cell_type": "markdown",
      "source": [
        "When using a different starting sdtae (1970 instead of 1950), the model does not visually fit the data as well as before."
      ],
      "metadata": {
        "id": "E9b_on3sh_p9"
      }
    },
    {
      "cell_type": "code",
      "source": [],
      "metadata": {
        "id": "jqjTWOnIh6RX"
      },
      "execution_count": null,
      "outputs": []
    }
  ],
  "metadata": {
    "kernelspec": {
      "display_name": "Python 3",
      "language": "python",
      "name": "python3"
    },
    "language_info": {
      "codemirror_mode": {
        "name": "ipython",
        "version": 3
      },
      "file_extension": ".py",
      "mimetype": "text/x-python",
      "name": "python",
      "nbconvert_exporter": "python",
      "pygments_lexer": "ipython3",
      "version": "3.7.3"
    },
    "colab": {
      "provenance": [],
      "include_colab_link": true
    }
  },
  "nbformat": 4,
  "nbformat_minor": 0
}