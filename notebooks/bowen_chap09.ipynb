{
  "cells": [
    {
      "cell_type": "markdown",
      "metadata": {
        "id": "view-in-github",
        "colab_type": "text"
      },
      "source": [
        "<a href=\"https://colab.research.google.com/github/andrewbowen19/SimulationAndModellingDATA604/blob/master/notebooks/bowen_chap09.ipynb\" target=\"_parent\"><img src=\"https://colab.research.google.com/assets/colab-badge.svg\" alt=\"Open In Colab\"/></a>"
      ]
    },
    {
      "cell_type": "markdown",
      "metadata": {
        "id": "wQwJ8ipZT5YS"
      },
      "source": [
        "# Modeling and Simulation in Python\n",
        "\n",
        "Chapter 9\n",
        "\n",
        "Copyright 2017 Allen Downey\n",
        "\n",
        "License: [Creative Commons Attribution 4.0 International](https://creativecommons.org/licenses/by/4.0)\n"
      ]
    },
    {
      "cell_type": "code",
      "source": [
        "!pip install --q pint\n",
        "!pip install --q modsimpy"
      ],
      "metadata": {
        "id": "CrqBjuLrT-SB"
      },
      "execution_count": null,
      "outputs": []
    },
    {
      "cell_type": "code",
      "execution_count": null,
      "metadata": {
        "id": "3m86uykxT5YX"
      },
      "outputs": [],
      "source": [
        "# Configure Jupyter to display the assigned value after an assignment\n",
        "%config InteractiveShell.ast_node_interactivity='last_expr_or_assign'\n",
        "\n",
        "# import everything from SymPy.\n",
        "from sympy import *\n",
        "\n",
        "# Set up Jupyter notebook to display math.\n",
        "init_printing()"
      ]
    },
    {
      "cell_type": "markdown",
      "metadata": {
        "id": "Ta9cyi2dT5Ya"
      },
      "source": [
        "The following displays SymPy expressions and provides the option of showing results in LaTeX format."
      ]
    },
    {
      "cell_type": "code",
      "execution_count": null,
      "metadata": {
        "id": "oipTUgkNT5Yb"
      },
      "outputs": [],
      "source": [
        "from sympy.printing import latex\n",
        "\n",
        "def show(expr, show_latex=False):\n",
        "    \"\"\"Display a SymPy expression.\n",
        "\n",
        "    expr: SymPy expression\n",
        "    show_latex: boolean\n",
        "    \"\"\"\n",
        "    if show_latex:\n",
        "        print(latex(expr))\n",
        "    return expr"
      ]
    },
    {
      "cell_type": "markdown",
      "metadata": {
        "id": "69VCteVwT5Yb"
      },
      "source": [
        "### Analysis with SymPy"
      ]
    },
    {
      "cell_type": "markdown",
      "metadata": {
        "id": "ouLJeZTkT5Yc"
      },
      "source": [
        "Create a symbol for time."
      ]
    },
    {
      "cell_type": "code",
      "execution_count": null,
      "metadata": {
        "id": "Q99SIQLVT5Yc",
        "outputId": "17942233-4153-42dd-b204-32ce541ca566",
        "colab": {
          "base_uri": "https://localhost:8080/",
          "height": 38
        }
      },
      "outputs": [
        {
          "output_type": "execute_result",
          "data": {
            "text/plain": [
              "t"
            ],
            "text/latex": "$\\displaystyle t$"
          },
          "metadata": {},
          "execution_count": 7
        }
      ],
      "source": [
        "t = symbols('t')"
      ]
    },
    {
      "cell_type": "markdown",
      "metadata": {
        "id": "7Iy97SnnT5Yd"
      },
      "source": [
        "If you combine symbols and numbers, you get symbolic expressions."
      ]
    },
    {
      "cell_type": "code",
      "execution_count": null,
      "metadata": {
        "id": "-KzaA9eAT5Yd",
        "outputId": "e4f4bffe-2195-4cf3-ad2b-945b1c128d25",
        "colab": {
          "base_uri": "https://localhost:8080/",
          "height": 38
        }
      },
      "outputs": [
        {
          "output_type": "execute_result",
          "data": {
            "text/plain": [
              "t + 1"
            ],
            "text/latex": "$\\displaystyle t + 1$"
          },
          "metadata": {},
          "execution_count": 8
        }
      ],
      "source": [
        "expr = t + 1"
      ]
    },
    {
      "cell_type": "markdown",
      "metadata": {
        "id": "qwk_JnXiT5Ye"
      },
      "source": [
        "The result is an `Add` object, which just represents the sum without trying to compute it."
      ]
    },
    {
      "cell_type": "code",
      "execution_count": null,
      "metadata": {
        "id": "BBWzLTogT5Ye",
        "outputId": "be24eefd-f600-4123-e5dc-5b390aae5696",
        "colab": {
          "base_uri": "https://localhost:8080/"
        }
      },
      "outputs": [
        {
          "output_type": "execute_result",
          "data": {
            "text/plain": [
              "sympy.core.add.Add"
            ]
          },
          "metadata": {},
          "execution_count": 9
        }
      ],
      "source": [
        "type(expr)"
      ]
    },
    {
      "cell_type": "markdown",
      "metadata": {
        "id": "h9-yBK5ET5Yf"
      },
      "source": [
        "`subs` can be used to replace a symbol with a number, which allows the addition to proceed."
      ]
    },
    {
      "cell_type": "code",
      "execution_count": null,
      "metadata": {
        "id": "xtpg4TicT5Yf",
        "outputId": "4f6bf0e0-fbda-42bc-e7af-9f1be84280d4",
        "colab": {
          "base_uri": "https://localhost:8080/",
          "height": 37
        }
      },
      "outputs": [
        {
          "output_type": "execute_result",
          "data": {
            "text/plain": [
              "3"
            ],
            "text/latex": "$\\displaystyle 3$"
          },
          "metadata": {},
          "execution_count": 10
        }
      ],
      "source": [
        "expr.subs(t, 2)"
      ]
    },
    {
      "cell_type": "markdown",
      "metadata": {
        "id": "BfgxuSuPT5Yf"
      },
      "source": [
        "`f` is a special class of symbol that represents a function."
      ]
    },
    {
      "cell_type": "code",
      "execution_count": null,
      "metadata": {
        "id": "XZZLNs3CT5Yg",
        "outputId": "03acf814-5ec4-4bcd-8dfc-773de892e237",
        "colab": {
          "base_uri": "https://localhost:8080/"
        }
      },
      "outputs": [
        {
          "output_type": "execute_result",
          "data": {
            "text/plain": [
              "f"
            ]
          },
          "metadata": {},
          "execution_count": 11
        }
      ],
      "source": [
        "f = Function('f')"
      ]
    },
    {
      "cell_type": "markdown",
      "metadata": {
        "id": "oWFOA1iKT5Yg"
      },
      "source": [
        "The type of `f` is `UndefinedFunction`"
      ]
    },
    {
      "cell_type": "code",
      "execution_count": null,
      "metadata": {
        "id": "g-uCuE0XT5Yh",
        "outputId": "0bd983cd-627e-42d9-f2ab-26cce0a78e42",
        "colab": {
          "base_uri": "https://localhost:8080/"
        }
      },
      "outputs": [
        {
          "output_type": "execute_result",
          "data": {
            "text/plain": [
              "sympy.core.function.UndefinedFunction"
            ]
          },
          "metadata": {},
          "execution_count": 12
        }
      ],
      "source": [
        "type(f)"
      ]
    },
    {
      "cell_type": "markdown",
      "metadata": {
        "id": "A0Mkj6WdT5Yh"
      },
      "source": [
        "SymPy understands that `f(t)` means `f` evaluated at `t`, but it doesn't try to evaluate it yet."
      ]
    },
    {
      "cell_type": "code",
      "execution_count": null,
      "metadata": {
        "id": "Ph-qKx71T5Yi",
        "outputId": "9afdcaa5-6a35-4918-ba50-e8d7aafd78c3",
        "colab": {
          "base_uri": "https://localhost:8080/",
          "height": 38
        }
      },
      "outputs": [
        {
          "output_type": "execute_result",
          "data": {
            "text/plain": [
              "f(t)"
            ],
            "text/latex": "$\\displaystyle f{\\left(t \\right)}$"
          },
          "metadata": {},
          "execution_count": 13
        }
      ],
      "source": [
        "f(t)"
      ]
    },
    {
      "cell_type": "markdown",
      "metadata": {
        "id": "SJ4t5ec_T5Yi"
      },
      "source": [
        "`diff` returns a `Derivative` object that represents the time derivative of `f`"
      ]
    },
    {
      "cell_type": "code",
      "execution_count": null,
      "metadata": {
        "id": "QCl9SPJoT5Yj",
        "outputId": "6fae6628-ce1e-484c-d81c-13809b0dc757",
        "colab": {
          "base_uri": "https://localhost:8080/",
          "height": 53
        }
      },
      "outputs": [
        {
          "output_type": "execute_result",
          "data": {
            "text/plain": [
              "d       \n",
              "──(f(t))\n",
              "dt      "
            ],
            "text/latex": "$\\displaystyle \\frac{d}{d t} f{\\left(t \\right)}$"
          },
          "metadata": {},
          "execution_count": 14
        }
      ],
      "source": [
        "dfdt = diff(f(t), t)"
      ]
    },
    {
      "cell_type": "code",
      "execution_count": null,
      "metadata": {
        "id": "bzkzDkKhT5Yj",
        "outputId": "98f8381b-f09a-4f38-e371-21334eac9823",
        "colab": {
          "base_uri": "https://localhost:8080/"
        }
      },
      "outputs": [
        {
          "output_type": "execute_result",
          "data": {
            "text/plain": [
              "sympy.core.function.Derivative"
            ]
          },
          "metadata": {},
          "execution_count": 15
        }
      ],
      "source": [
        "type(dfdt)"
      ]
    },
    {
      "cell_type": "markdown",
      "metadata": {
        "id": "6zipXc_AT5Yk"
      },
      "source": [
        "We need a symbol for `alpha`"
      ]
    },
    {
      "cell_type": "code",
      "execution_count": null,
      "metadata": {
        "id": "alONJwk_T5Yk",
        "outputId": "fe97c7c1-c159-4a9d-a860-9eff2df88117",
        "colab": {
          "base_uri": "https://localhost:8080/",
          "height": 38
        }
      },
      "outputs": [
        {
          "output_type": "execute_result",
          "data": {
            "text/plain": [
              "α"
            ],
            "text/latex": "$\\displaystyle \\alpha$"
          },
          "metadata": {},
          "execution_count": 16
        }
      ],
      "source": [
        "alpha = symbols('alpha')"
      ]
    },
    {
      "cell_type": "markdown",
      "metadata": {
        "id": "4-9Zoq-yT5Yl"
      },
      "source": [
        "Now we can write the differential equation for proportional growth."
      ]
    },
    {
      "cell_type": "code",
      "execution_count": null,
      "metadata": {
        "id": "eKYIdnAnT5Yl",
        "outputId": "36c9b443-4db1-48d7-f715-465b4fb4877c",
        "colab": {
          "base_uri": "https://localhost:8080/",
          "height": 53
        }
      },
      "outputs": [
        {
          "output_type": "execute_result",
          "data": {
            "text/plain": [
              "d                \n",
              "──(f(t)) = α⋅f(t)\n",
              "dt               "
            ],
            "text/latex": "$\\displaystyle \\frac{d}{d t} f{\\left(t \\right)} = \\alpha f{\\left(t \\right)}$"
          },
          "metadata": {},
          "execution_count": 17
        }
      ],
      "source": [
        "eq1 = Eq(dfdt, alpha*f(t))"
      ]
    },
    {
      "cell_type": "markdown",
      "metadata": {
        "id": "QoPXhXv0T5Yl"
      },
      "source": [
        "And use `dsolve` to solve it.  The result is the general solution."
      ]
    },
    {
      "cell_type": "code",
      "execution_count": null,
      "metadata": {
        "id": "qZJ1W2b-T5Ym",
        "outputId": "d3b97445-c6d0-42e4-b85a-3021d51bf180",
        "colab": {
          "base_uri": "https://localhost:8080/",
          "height": 38
        }
      },
      "outputs": [
        {
          "output_type": "execute_result",
          "data": {
            "text/plain": [
              "           α⋅t\n",
              "f(t) = C₁⋅ℯ   "
            ],
            "text/latex": "$\\displaystyle f{\\left(t \\right)} = C_{1} e^{\\alpha t}$"
          },
          "metadata": {},
          "execution_count": 18
        }
      ],
      "source": [
        "solution_eq = dsolve(eq1)"
      ]
    },
    {
      "cell_type": "markdown",
      "metadata": {
        "id": "-3aukPSRT5Ym"
      },
      "source": [
        "We can tell it's a general solution because it contains an unspecified constant, `C1`.\n",
        "\n",
        "In this example, finding the particular solution is easy: we just replace `C1` with `p_0`"
      ]
    },
    {
      "cell_type": "code",
      "execution_count": null,
      "metadata": {
        "id": "sVPe4pYlT5Yn"
      },
      "outputs": [],
      "source": [
        "C1, p_0 = symbols('C1 p_0')"
      ]
    },
    {
      "cell_type": "code",
      "execution_count": null,
      "metadata": {
        "id": "OCauzlkpT5Yn",
        "outputId": "1b8b21c5-02ab-43fa-fe65-4dfae602c064",
        "colab": {
          "base_uri": "https://localhost:8080/",
          "height": 38
        }
      },
      "outputs": [
        {
          "output_type": "execute_result",
          "data": {
            "text/plain": [
              "           α⋅t\n",
              "f(t) = p₀⋅ℯ   "
            ],
            "text/latex": "$\\displaystyle f{\\left(t \\right)} = p_{0} e^{\\alpha t}$"
          },
          "metadata": {},
          "execution_count": 20
        }
      ],
      "source": [
        "particular = solution_eq.subs(C1, p_0)"
      ]
    },
    {
      "cell_type": "markdown",
      "metadata": {
        "id": "UdaT2W_vT5Yq"
      },
      "source": [
        "In the next example, we have to work a little harder to find the particular solution."
      ]
    },
    {
      "cell_type": "markdown",
      "metadata": {
        "id": "4h9s3DezT5Ys"
      },
      "source": [
        "### Solving the quadratic growth equation\n",
        "\n",
        "We'll use the (r, K) parameterization, so we'll need two more symbols:"
      ]
    },
    {
      "cell_type": "code",
      "execution_count": null,
      "metadata": {
        "id": "Sq95dgDQT5Yt"
      },
      "outputs": [],
      "source": [
        "r, K = symbols('r K')"
      ]
    },
    {
      "cell_type": "markdown",
      "metadata": {
        "id": "DrtyvGzcT5Yu"
      },
      "source": [
        "Now we can write the differential equation."
      ]
    },
    {
      "cell_type": "code",
      "execution_count": null,
      "metadata": {
        "id": "oN2v5rkuT5Yv",
        "outputId": "58384a9f-ce7b-46f1-83cf-9a58fa41a7c1",
        "colab": {
          "base_uri": "https://localhost:8080/",
          "height": 58
        }
      },
      "outputs": [
        {
          "output_type": "execute_result",
          "data": {
            "text/plain": [
              "d            ⎛    f(t)⎞     \n",
              "──(f(t)) = r⋅⎜1 - ────⎟⋅f(t)\n",
              "dt           ⎝     K  ⎠     "
            ],
            "text/latex": "$\\displaystyle \\frac{d}{d t} f{\\left(t \\right)} = r \\left(1 - \\frac{f{\\left(t \\right)}}{K}\\right) f{\\left(t \\right)}$"
          },
          "metadata": {},
          "execution_count": 22
        }
      ],
      "source": [
        "eq2 = Eq(diff(f(t), t), r * f(t) * (1 - f(t)/K))"
      ]
    },
    {
      "cell_type": "markdown",
      "metadata": {
        "id": "rjn_YkGTT5Yv"
      },
      "source": [
        "And solve it."
      ]
    },
    {
      "cell_type": "code",
      "execution_count": null,
      "metadata": {
        "id": "9au3i-yyT5Yw",
        "outputId": "a7fb30ee-0533-4e57-d1e4-ebe9ad206d32",
        "colab": {
          "base_uri": "https://localhost:8080/",
          "height": 56
        }
      },
      "outputs": [
        {
          "output_type": "execute_result",
          "data": {
            "text/plain": [
              "           C₁⋅K + r⋅t \n",
              "        K⋅ℯ           \n",
              "f(t) = ───────────────\n",
              "        C₁⋅K + r⋅t    \n",
              "       ℯ           - 1"
            ],
            "text/latex": "$\\displaystyle f{\\left(t \\right)} = \\frac{K e^{C_{1} K + r t}}{e^{C_{1} K + r t} - 1}$"
          },
          "metadata": {},
          "execution_count": 23
        }
      ],
      "source": [
        "solution_eq = dsolve(eq2)"
      ]
    },
    {
      "cell_type": "markdown",
      "metadata": {
        "id": "W9c0txA2T5Yw"
      },
      "source": [
        "The result, `solution_eq`, contains `rhs`, which is the right-hand side of the solution."
      ]
    },
    {
      "cell_type": "code",
      "execution_count": null,
      "metadata": {
        "id": "NjTi5_3vT5Yx",
        "outputId": "a3bcc941-f45b-4e9f-b8a5-fc9068f5eada",
        "colab": {
          "base_uri": "https://localhost:8080/",
          "height": 56
        }
      },
      "outputs": [
        {
          "output_type": "execute_result",
          "data": {
            "text/plain": [
              "    C₁⋅K + r⋅t \n",
              " K⋅ℯ           \n",
              "───────────────\n",
              " C₁⋅K + r⋅t    \n",
              "ℯ           - 1"
            ],
            "text/latex": "$\\displaystyle \\frac{K e^{C_{1} K + r t}}{e^{C_{1} K + r t} - 1}$"
          },
          "metadata": {},
          "execution_count": 24
        }
      ],
      "source": [
        "general = solution_eq.rhs"
      ]
    },
    {
      "cell_type": "markdown",
      "metadata": {
        "id": "x35o5Ie-T5Yx"
      },
      "source": [
        "We can evaluate the right-hand side at $t=0$"
      ]
    },
    {
      "cell_type": "code",
      "execution_count": null,
      "metadata": {
        "id": "P1qz-SbAT5Yy",
        "outputId": "b9c54c45-de7a-433c-9edb-fb8a15767c62",
        "colab": {
          "base_uri": "https://localhost:8080/",
          "height": 56
        }
      },
      "outputs": [
        {
          "output_type": "execute_result",
          "data": {
            "text/plain": [
              "    C₁⋅K \n",
              " K⋅ℯ     \n",
              "─────────\n",
              " C₁⋅K    \n",
              "ℯ     - 1"
            ],
            "text/latex": "$\\displaystyle \\frac{K e^{C_{1} K}}{e^{C_{1} K} - 1}$"
          },
          "metadata": {},
          "execution_count": 25
        }
      ],
      "source": [
        "at_0 = general.subs(t, 0)"
      ]
    },
    {
      "cell_type": "markdown",
      "metadata": {
        "id": "KTDnc4HGT5Yy"
      },
      "source": [
        "Now we want to find the value of `C1` that makes `f(0) = p_0`.\n",
        "\n",
        "So we'll create the equation `at_0 = p_0` and solve for `C1`.  Because this is just an algebraic identity, not a differential equation, we use `solve`, not `dsolve`.\n",
        "\n",
        "The result from `solve` is a list of solutions.  In this case, [we have reason to expect only one solution](https://en.wikipedia.org/wiki/Picard%E2%80%93Lindel%C3%B6f_theorem), but we still get a list, so we have to use the bracket operator, `[0]`, to select the first one."
      ]
    },
    {
      "cell_type": "code",
      "execution_count": null,
      "metadata": {
        "id": "lFAWJCBqT5Yz",
        "outputId": "5c84d2ca-52ff-43f0-d0c8-41a6567e70c3",
        "colab": {
          "base_uri": "https://localhost:8080/"
        }
      },
      "outputs": [
        {
          "output_type": "execute_result",
          "data": {
            "text/plain": [
              "(list, 1)"
            ]
          },
          "metadata": {},
          "execution_count": 26
        }
      ],
      "source": [
        "solutions = solve(Eq(at_0, p_0), C1)\n",
        "type(solutions), len(solutions)"
      ]
    },
    {
      "cell_type": "code",
      "execution_count": null,
      "metadata": {
        "id": "hbTH0vn9T5Y0",
        "outputId": "5631b4b0-bb93-46f8-c875-8f1a7e8b6661",
        "colab": {
          "base_uri": "https://localhost:8080/",
          "height": 66
        }
      },
      "outputs": [
        {
          "output_type": "execute_result",
          "data": {
            "text/plain": [
              "   ⎛ -p₀  ⎞\n",
              "log⎜──────⎟\n",
              "   ⎝K - p₀⎠\n",
              "───────────\n",
              "     K     "
            ],
            "text/latex": "$\\displaystyle \\frac{\\log{\\left(- \\frac{p_{0}}{K - p_{0}} \\right)}}{K}$"
          },
          "metadata": {},
          "execution_count": 27
        }
      ],
      "source": [
        "value_of_C1 = solutions[0]"
      ]
    },
    {
      "cell_type": "markdown",
      "metadata": {
        "id": "7h8t6EBxT5Y0"
      },
      "source": [
        "Now in the general solution, we want to replace `C1` with the value of `C1` we just figured out."
      ]
    },
    {
      "cell_type": "code",
      "execution_count": null,
      "metadata": {
        "id": "f7A2BdPST5Y0",
        "outputId": "c35eb796-49d2-4db2-e2bb-6b1455352f0e",
        "colab": {
          "base_uri": "https://localhost:8080/",
          "height": 71
        }
      },
      "outputs": [
        {
          "output_type": "execute_result",
          "data": {
            "text/plain": [
              "             r⋅t        \n",
              "      -K⋅p₀⋅ℯ           \n",
              "────────────────────────\n",
              "         ⎛      r⋅t    ⎞\n",
              "         ⎜  p₀⋅ℯ       ⎟\n",
              "(K - p₀)⋅⎜- ─────── - 1⎟\n",
              "         ⎝   K - p₀    ⎠"
            ],
            "text/latex": "$\\displaystyle - \\frac{K p_{0} e^{r t}}{\\left(K - p_{0}\\right) \\left(- \\frac{p_{0} e^{r t}}{K - p_{0}} - 1\\right)}$"
          },
          "metadata": {},
          "execution_count": 28
        }
      ],
      "source": [
        "particular = general.subs(C1, value_of_C1)"
      ]
    },
    {
      "cell_type": "markdown",
      "metadata": {
        "id": "1_Hdxp1WT5Y1"
      },
      "source": [
        "The result is complicated, but SymPy provides a method that tries to simplify it."
      ]
    },
    {
      "cell_type": "code",
      "execution_count": null,
      "metadata": {
        "id": "mBAXhQyVT5Y1",
        "outputId": "80adcd73-947b-4f43-cc04-2e74df503430",
        "colab": {
          "base_uri": "https://localhost:8080/",
          "height": 57
        }
      },
      "outputs": [
        {
          "output_type": "execute_result",
          "data": {
            "text/plain": [
              "         r⋅t    \n",
              "   K⋅p₀⋅ℯ       \n",
              "────────────────\n",
              "        r⋅t     \n",
              "K + p₀⋅ℯ    - p₀"
            ],
            "text/latex": "$\\displaystyle \\frac{K p_{0} e^{r t}}{K + p_{0} e^{r t} - p_{0}}$"
          },
          "metadata": {},
          "execution_count": 29
        }
      ],
      "source": [
        "particular = simplify(particular)"
      ]
    },
    {
      "cell_type": "markdown",
      "metadata": {
        "id": "twrXXOQoT5Y1"
      },
      "source": [
        "Often simplicity is in the eye of the beholder, but that's about as simple as this expression gets.\n",
        "\n",
        "Just to double-check, we can evaluate it at `t=0` and confirm that we get `p_0`"
      ]
    },
    {
      "cell_type": "code",
      "execution_count": null,
      "metadata": {
        "id": "-arKRBiJT5Y2",
        "outputId": "78678612-a964-4053-fdb2-2cb9b2576bf1",
        "colab": {
          "base_uri": "https://localhost:8080/",
          "height": 38
        }
      },
      "outputs": [
        {
          "output_type": "execute_result",
          "data": {
            "text/plain": [
              "p₀"
            ],
            "text/latex": "$\\displaystyle p_{0}$"
          },
          "metadata": {},
          "execution_count": 30
        }
      ],
      "source": [
        "particular.subs(t, 0)"
      ]
    },
    {
      "cell_type": "markdown",
      "metadata": {
        "id": "2bnmDeADT5Y2"
      },
      "source": [
        "This solution is called the [logistic function](https://en.wikipedia.org/wiki/Population_growth#Logistic_equation).\n",
        "\n",
        "In some places you'll see it written in a different form:\n",
        "\n",
        "$f(t) = \\frac{K}{1 + A e^{-rt}}$\n",
        "\n",
        "where $A = (K - p_0) / p_0$.\n",
        "\n",
        "We can use SymPy to confirm that these two forms are equivalent.  First we represent the alternative version of the logistic function:"
      ]
    },
    {
      "cell_type": "code",
      "execution_count": null,
      "metadata": {
        "id": "_yDDT1hwT5Y2",
        "outputId": "0d07efc6-a9a8-4f9c-e7ff-ba6dbe4aa24b",
        "colab": {
          "base_uri": "https://localhost:8080/",
          "height": 55
        }
      },
      "outputs": [
        {
          "output_type": "execute_result",
          "data": {
            "text/plain": [
              "K - p₀\n",
              "──────\n",
              "  p₀  "
            ],
            "text/latex": "$\\displaystyle \\frac{K - p_{0}}{p_{0}}$"
          },
          "metadata": {},
          "execution_count": 31
        }
      ],
      "source": [
        "A = (K - p_0) / p_0"
      ]
    },
    {
      "cell_type": "code",
      "execution_count": null,
      "metadata": {
        "id": "wcdF2z6vT5Y2",
        "outputId": "bd9cab85-e812-4090-8f53-b56083cdae24",
        "colab": {
          "base_uri": "https://localhost:8080/",
          "height": 63
        }
      },
      "outputs": [
        {
          "output_type": "execute_result",
          "data": {
            "text/plain": [
              "        K         \n",
              "──────────────────\n",
              "              -r⋅t\n",
              "    (K - p₀)⋅ℯ    \n",
              "1 + ──────────────\n",
              "          p₀      "
            ],
            "text/latex": "$\\displaystyle \\frac{K}{1 + \\frac{\\left(K - p_{0}\\right) e^{- r t}}{p_{0}}}$"
          },
          "metadata": {},
          "execution_count": 32
        }
      ],
      "source": [
        "logistic = K / (1 + A * exp(-r*t))"
      ]
    },
    {
      "cell_type": "markdown",
      "metadata": {
        "id": "Oz3hFeKqT5Y3"
      },
      "source": [
        "To see whether two expressions are equivalent, we can check whether their difference simplifies to 0."
      ]
    },
    {
      "cell_type": "code",
      "execution_count": null,
      "metadata": {
        "scrolled": true,
        "id": "BRRAt3ODT5Y3",
        "outputId": "8af73751-ddda-4e45-a290-04c1251c2569",
        "colab": {
          "base_uri": "https://localhost:8080/",
          "height": 37
        }
      },
      "outputs": [
        {
          "output_type": "execute_result",
          "data": {
            "text/plain": [
              "0"
            ],
            "text/latex": "$\\displaystyle 0$"
          },
          "metadata": {},
          "execution_count": 33
        }
      ],
      "source": [
        "simplify(particular - logistic)"
      ]
    },
    {
      "cell_type": "markdown",
      "metadata": {
        "id": "V2EcL6vvT5Y3"
      },
      "source": [
        "This test only works one way: if SymPy says the difference reduces to 0, the expressions are definitely equivalent (and not just numerically close).\n",
        "\n",
        "But if SymPy can't find a way to simplify the result to 0, that doesn't necessarily mean there isn't one.  Testing whether two expressions are equivalent is a surprisingly hard problem; in fact, there is no algorithm that can solve it in general."
      ]
    },
    {
      "cell_type": "markdown",
      "metadata": {
        "id": "u-8rXFPRT5Y3"
      },
      "source": [
        "### Exercises\n",
        "\n",
        "**Exercise:** Solve the quadratic growth equation using the alternative parameterization\n",
        "\n",
        "$\\frac{df(t)}{dt} = \\alpha f(t) + \\beta f^2(t) $"
      ]
    },
    {
      "cell_type": "code",
      "execution_count": null,
      "metadata": {
        "id": "SnCW8_ZMT5Y3",
        "outputId": "244a0687-a684-4674-f634-bdbf72cd2ceb",
        "colab": {
          "base_uri": "https://localhost:8080/",
          "height": 38
        }
      },
      "outputs": [
        {
          "output_type": "execute_result",
          "data": {
            "text/plain": [
              "β"
            ],
            "text/latex": "$\\displaystyle \\beta$"
          },
          "metadata": {},
          "execution_count": 47
        }
      ],
      "source": [
        "# Solution goes here\n",
        "alpha = symbols(\"alpha\")\n",
        "beta = symbols(\"beta\")"
      ]
    },
    {
      "cell_type": "code",
      "execution_count": null,
      "metadata": {
        "id": "bwZPDSBbT5Y3",
        "outputId": "58a97df9-40a9-44bb-8e38-6cc322729364",
        "colab": {
          "base_uri": "https://localhost:8080/",
          "height": 53
        }
      },
      "outputs": [
        {
          "output_type": "execute_result",
          "data": {
            "text/plain": [
              "d                      2   \n",
              "──(f(t)) = α⋅f(t) + β⋅f (t)\n",
              "dt                         "
            ],
            "text/latex": "$\\displaystyle \\frac{d}{d t} f{\\left(t \\right)} = \\alpha f{\\left(t \\right)} + \\beta f^{2}{\\left(t \\right)}$"
          },
          "metadata": {},
          "execution_count": 48
        }
      ],
      "source": [
        "# We can use the f(t) already defined\n",
        "eq = Eq(diff(f(t), t), alpha*f(t) + beta*f(t)**2)"
      ]
    },
    {
      "cell_type": "code",
      "execution_count": null,
      "metadata": {
        "id": "GHyasWpLT5Y4",
        "outputId": "d8ba31bc-4899-44e3-9b9a-a02e9d0e7737",
        "colab": {
          "base_uri": "https://localhost:8080/",
          "height": 62
        }
      },
      "outputs": [
        {
          "output_type": "execute_result",
          "data": {
            "text/plain": [
              "             α⋅(C₁ + t)   \n",
              "          α⋅ℯ             \n",
              "f(t) = ───────────────────\n",
              "         ⎛     α⋅(C₁ + t)⎞\n",
              "       β⋅⎝1 - ℯ          ⎠"
            ],
            "text/latex": "$\\displaystyle f{\\left(t \\right)} = \\frac{\\alpha e^{\\alpha \\left(C_{1} + t\\right)}}{\\beta \\left(1 - e^{\\alpha \\left(C_{1} + t\\right)}\\right)}$"
          },
          "metadata": {},
          "execution_count": 51
        }
      ],
      "source": [
        "# Using dsolve from sympy\n",
        "soln = dsolve(eq)"
      ]
    },
    {
      "cell_type": "code",
      "execution_count": null,
      "metadata": {
        "id": "RJr5ayY5T5Y4",
        "outputId": "1b6cbc51-1c4f-44a0-9ca3-b19bdc626bc5",
        "colab": {
          "base_uri": "https://localhost:8080/",
          "height": 62
        }
      },
      "outputs": [
        {
          "output_type": "execute_result",
          "data": {
            "text/plain": [
              "      α⋅(C₁ + t)   \n",
              "   α⋅ℯ             \n",
              "───────────────────\n",
              "  ⎛     α⋅(C₁ + t)⎞\n",
              "β⋅⎝1 - ℯ          ⎠"
            ],
            "text/latex": "$\\displaystyle \\frac{\\alpha e^{\\alpha \\left(C_{1} + t\\right)}}{\\beta \\left(1 - e^{\\alpha \\left(C_{1} + t\\right)}\\right)}$"
          },
          "metadata": {},
          "execution_count": 54
        }
      ],
      "source": [
        "# Get the general solution from the right-hand side of our solution above\n",
        "general_soln = soln.rhs"
      ]
    },
    {
      "cell_type": "code",
      "execution_count": null,
      "metadata": {
        "id": "Z4BG6MUwT5Y4",
        "outputId": "a0cd19b9-268c-41df-ffc1-46c51bd27dd5",
        "colab": {
          "base_uri": "https://localhost:8080/",
          "height": 59
        }
      },
      "outputs": [
        {
          "output_type": "execute_result",
          "data": {
            "text/plain": [
              "      C₁⋅α   \n",
              "   α⋅ℯ       \n",
              "─────────────\n",
              "  ⎛     C₁⋅α⎞\n",
              "β⋅⎝1 - ℯ    ⎠"
            ],
            "text/latex": "$\\displaystyle \\frac{\\alpha e^{C_{1} \\alpha}}{\\beta \\left(1 - e^{C_{1} \\alpha}\\right)}$"
          },
          "metadata": {},
          "execution_count": 58
        }
      ],
      "source": [
        "# Solution goes here\n",
        "initial = general_soln.subs(t, 0)"
      ]
    },
    {
      "cell_type": "code",
      "execution_count": null,
      "metadata": {
        "id": "u0CDc7tJT5Y5",
        "outputId": "55e7981d-7e90-4ebf-dc03-92b4b4c5d2bd",
        "colab": {
          "base_uri": "https://localhost:8080/",
          "height": 80
        }
      },
      "outputs": [
        {
          "output_type": "execute_result",
          "data": {
            "text/plain": [
              "⎡   ⎛  β⋅p₀  ⎞⎤\n",
              "⎢log⎜────────⎟⎥\n",
              "⎢   ⎝α + β⋅p₀⎠⎥\n",
              "⎢─────────────⎥\n",
              "⎣      α      ⎦"
            ],
            "text/latex": "$\\displaystyle \\left[ \\frac{\\log{\\left(\\frac{\\beta p_{0}}{\\alpha + \\beta p_{0}} \\right)}}{\\alpha}\\right]$"
          },
          "metadata": {},
          "execution_count": 60
        }
      ],
      "source": [
        "# Using the p_0 and C1 symbols from previously\n",
        "solutions = solve(Eq(initial, p_0), C1)"
      ]
    },
    {
      "cell_type": "code",
      "execution_count": null,
      "metadata": {
        "id": "YHRxs09AT5Y5"
      },
      "outputs": [],
      "source": [
        "# Solution goes here"
      ]
    },
    {
      "cell_type": "markdown",
      "metadata": {
        "id": "0PJSTaH9T5Y5"
      },
      "source": [
        "**Exercise:**  Use [WolframAlpha](https://www.wolframalpha.com/) to solve the quadratic growth model, using either or both forms of parameterization:\n",
        "\n",
        "    df(t) / dt = alpha f(t) + beta f(t)^2\n",
        "\n",
        "or\n",
        "\n",
        "    df(t) / dt = r f(t) (1 - f(t)/K)\n",
        "\n",
        "Find the general solution and also the particular solution where `f(0) = p_0`."
      ]
    },
    {
      "cell_type": "code",
      "execution_count": null,
      "metadata": {
        "id": "s090o7Q5T5Y5"
      },
      "outputs": [],
      "source": []
    }
  ],
  "metadata": {
    "kernelspec": {
      "display_name": "Python 3",
      "language": "python",
      "name": "python3"
    },
    "language_info": {
      "codemirror_mode": {
        "name": "ipython",
        "version": 3
      },
      "file_extension": ".py",
      "mimetype": "text/x-python",
      "name": "python",
      "nbconvert_exporter": "python",
      "pygments_lexer": "ipython3",
      "version": "3.7.3"
    },
    "colab": {
      "provenance": [],
      "include_colab_link": true
    }
  },
  "nbformat": 4,
  "nbformat_minor": 0
}