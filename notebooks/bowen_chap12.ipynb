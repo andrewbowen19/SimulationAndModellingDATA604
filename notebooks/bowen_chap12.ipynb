{
  "cells": [
    {
      "cell_type": "markdown",
      "metadata": {
        "id": "view-in-github",
        "colab_type": "text"
      },
      "source": [
        "<a href=\"https://colab.research.google.com/github/andrewbowen19/SimulationAndModellingDATA604/blob/master/notebooks/bowen_chap12.ipynb\" target=\"_parent\"><img src=\"https://colab.research.google.com/assets/colab-badge.svg\" alt=\"Open In Colab\"/></a>"
      ]
    },
    {
      "cell_type": "markdown",
      "metadata": {
        "id": "vhCijwYggF6u"
      },
      "source": [
        "# Modeling and Simulation in Python\n",
        "\n",
        "Chapter 12\n",
        "\n",
        "Copyright 2017 Allen Downey\n",
        "\n",
        "License: [Creative Commons Attribution 4.0 International](https://creativecommons.org/licenses/by/4.0)\n"
      ]
    },
    {
      "cell_type": "code",
      "source": [
        "!pip install --q modsimpy\n",
        "!pip install --q pint"
      ],
      "metadata": {
        "id": "7_4YvKdngGwq"
      },
      "execution_count": 16,
      "outputs": []
    },
    {
      "cell_type": "code",
      "execution_count": 17,
      "metadata": {
        "id": "58wJX1d0gF6w"
      },
      "outputs": [],
      "source": [
        "# Configure Jupyter so figures appear in the notebook\n",
        "%matplotlib inline\n",
        "\n",
        "# Configure Jupyter to display the assigned value after an assignment\n",
        "%config InteractiveShell.ast_node_interactivity='last_expr_or_assign'\n",
        "\n",
        "# import functions from the modsim.py module\n",
        "from modsim import *"
      ]
    },
    {
      "cell_type": "markdown",
      "metadata": {
        "id": "O70l09gogF6y"
      },
      "source": [
        "### Code\n",
        "\n",
        "Here's the code from the previous notebook that we'll need."
      ]
    },
    {
      "cell_type": "code",
      "execution_count": 18,
      "metadata": {
        "id": "4w97psUpgF6y"
      },
      "outputs": [],
      "source": [
        "def make_system(beta, gamma):\n",
        "    \"\"\"Make a system object for the SIR model.\n",
        "\n",
        "    beta: contact rate in days\n",
        "    gamma: recovery rate in days\n",
        "\n",
        "    returns: System object\n",
        "    \"\"\"\n",
        "    init = State(S=89, I=1, R=0)\n",
        "    init /= sum(init)\n",
        "\n",
        "    t0 = 0\n",
        "    t_end = 7 * 14\n",
        "\n",
        "    return System(init=init, t0=t0, t_end=t_end,\n",
        "                  beta=beta, gamma=gamma)"
      ]
    },
    {
      "cell_type": "code",
      "execution_count": 19,
      "metadata": {
        "id": "zRVJiIrigF6z"
      },
      "outputs": [],
      "source": [
        "def update_func(state, t, system):\n",
        "    \"\"\"Update the SIR model.\n",
        "\n",
        "    state: State with variables S, I, R\n",
        "    t: time step\n",
        "    system: System with beta and gamma\n",
        "\n",
        "    returns: State object\n",
        "    \"\"\"\n",
        "    s, i, r = state\n",
        "\n",
        "    infected = system.beta * i * s\n",
        "    recovered = system.gamma * i\n",
        "\n",
        "    s -= infected\n",
        "    i += infected - recovered\n",
        "    r += recovered\n",
        "\n",
        "    return State(S=s, I=i, R=r)"
      ]
    },
    {
      "cell_type": "code",
      "execution_count": 20,
      "metadata": {
        "id": "Vh70PdUVgF6z"
      },
      "outputs": [],
      "source": [
        "def run_simulation(system, update_func):\n",
        "    \"\"\"Runs a simulation of the system.\n",
        "\n",
        "    system: System object\n",
        "    update_func: function that updates state\n",
        "\n",
        "    returns: TimeFrame\n",
        "    \"\"\"\n",
        "    frame = TimeFrame(columns=system.init.index)\n",
        "    frame.row[system.t0] = system.init\n",
        "\n",
        "    for t in linrange(system.t0, system.t_end):\n",
        "        frame.row[t+1] = update_func(frame.row[t], t, system)\n",
        "\n",
        "    return frame"
      ]
    },
    {
      "cell_type": "markdown",
      "metadata": {
        "id": "4l8VBRIogF60"
      },
      "source": [
        "### Metrics"
      ]
    },
    {
      "cell_type": "markdown",
      "metadata": {
        "id": "Bt98fXILgF60"
      },
      "source": [
        "Given the results, we can compute metrics that quantify whatever we are interested in, like the total number of sick students, for example."
      ]
    },
    {
      "cell_type": "code",
      "execution_count": 21,
      "metadata": {
        "id": "ZueB_k1kgF61"
      },
      "outputs": [],
      "source": [
        "def calc_total_infected(results):\n",
        "    \"\"\"Fraction of population infected during the simulation.\n",
        "\n",
        "    results: DataFrame with columns S, I, R\n",
        "\n",
        "    returns: fraction of population\n",
        "    \"\"\"\n",
        "    return get_first_value(results.S) - get_last_value(results.S)"
      ]
    },
    {
      "cell_type": "markdown",
      "metadata": {
        "id": "af0mJ8oMgF61"
      },
      "source": [
        "Here's an example.|"
      ]
    },
    {
      "cell_type": "code",
      "execution_count": 22,
      "metadata": {
        "id": "AG5Z5fkSgF62",
        "colab": {
          "base_uri": "https://localhost:8080/"
        },
        "outputId": "7bf4024f-8d90-4cd3-a280-ec47c2877283"
      },
      "outputs": [
        {
          "output_type": "stream",
          "name": "stdout",
          "text": [
            "0.333 0.25 0.46716293183605073\n"
          ]
        }
      ],
      "source": [
        "beta = 0.333\n",
        "gamma = 0.25\n",
        "system = make_system(beta, gamma)\n",
        "\n",
        "results = run_simulation(system, update_func)\n",
        "print(beta, gamma, calc_total_infected(results))"
      ]
    },
    {
      "cell_type": "markdown",
      "metadata": {
        "id": "4AkgS_b6gF62"
      },
      "source": [
        "**Exercise:** Write functions that take a `TimeFrame` object as a parameter and compute the other metrics mentioned in the book:\n",
        "\n",
        "1.  The fraction of students who are sick at the peak of the outbreak.\n",
        "\n",
        "2.  The day the outbreak peaks.\n",
        "\n",
        "3.  The fraction of students who are sick at the end of the semester.\n",
        "\n",
        "Note: Not all of these functions require the `System` object, but when you write a set of related functons, it is often convenient if they all take the same parameters.\n",
        "\n",
        "Hint:  If you have a `TimeSeries` called `I`, you can compute the largest value of the series like this:\n",
        "\n",
        "    I.max()\n",
        "\n",
        "And the index of the largest value like this:\n",
        "\n",
        "    I.idxmax()\n",
        "\n",
        "You can read about these functions in the `Series` [documentation](https://pandas.pydata.org/pandas-docs/stable/generated/pandas.Series.html)."
      ]
    },
    {
      "cell_type": "code",
      "execution_count": 23,
      "metadata": {
        "id": "whxGzTFDgF63"
      },
      "outputs": [],
      "source": [
        "# Solution goes here\n",
        "def compute_metrics(tf: TimeFrame):\n",
        "\n",
        "  return"
      ]
    },
    {
      "cell_type": "code",
      "execution_count": 24,
      "metadata": {
        "id": "qklrQzGMgF63"
      },
      "outputs": [],
      "source": [
        "# Solution goes here"
      ]
    },
    {
      "cell_type": "code",
      "execution_count": 25,
      "metadata": {
        "id": "NWyGU_q_gF64"
      },
      "outputs": [],
      "source": [
        "# Solution goes here"
      ]
    },
    {
      "cell_type": "markdown",
      "metadata": {
        "id": "RtGP3ivegF64"
      },
      "source": [
        "### What if?"
      ]
    },
    {
      "cell_type": "markdown",
      "metadata": {
        "id": "-tdjvGIbgF65"
      },
      "source": [
        "We can use this model to evaluate \"what if\" scenarios.  For example, this function models the effect of immunization by moving some fraction of the population from S to R before the simulation starts."
      ]
    },
    {
      "cell_type": "code",
      "execution_count": 26,
      "metadata": {
        "id": "dwZw5zNHgF66"
      },
      "outputs": [],
      "source": [
        "def add_immunization(system, fraction):\n",
        "    \"\"\"Immunize a fraction of the population.\n",
        "\n",
        "    Moves the given fraction from S to R.\n",
        "\n",
        "    system: System object\n",
        "    fraction: number from 0 to 1\n",
        "    \"\"\"\n",
        "    system.init.S -= fraction\n",
        "    system.init.R += fraction"
      ]
    },
    {
      "cell_type": "markdown",
      "metadata": {
        "id": "dGOdsFCbgF66"
      },
      "source": [
        "Let's start again with the system we used in the previous sections."
      ]
    },
    {
      "cell_type": "code",
      "execution_count": 27,
      "metadata": {
        "id": "4H2s4OssgF67",
        "colab": {
          "base_uri": "https://localhost:8080/",
          "height": 204
        },
        "outputId": "c7b138f1-15f5-4fe9-aa20-dede032fccc5"
      },
      "outputs": [
        {
          "output_type": "execute_result",
          "data": {
            "text/plain": [
              "init     S    0.988889\n",
              "I    0.011111\n",
              "R    0.000000\n",
              "dtyp...\n",
              "t0                                                       0\n",
              "t_end                                                   98\n",
              "beta                                              0.333333\n",
              "gamma                                                 0.25\n",
              "dtype: object"
            ],
            "text/html": [
              "<div>\n",
              "<style scoped>\n",
              "    .dataframe tbody tr th:only-of-type {\n",
              "        vertical-align: middle;\n",
              "    }\n",
              "\n",
              "    .dataframe tbody tr th {\n",
              "        vertical-align: top;\n",
              "    }\n",
              "\n",
              "    .dataframe thead th {\n",
              "        text-align: right;\n",
              "    }\n",
              "</style>\n",
              "<table border=\"1\" class=\"dataframe\">\n",
              "  <thead>\n",
              "    <tr style=\"text-align: right;\">\n",
              "      <th></th>\n",
              "      <th>values</th>\n",
              "    </tr>\n",
              "  </thead>\n",
              "  <tbody>\n",
              "    <tr>\n",
              "      <th>init</th>\n",
              "      <td>S    0.988889\n",
              "I    0.011111\n",
              "R    0.000000\n",
              "dtyp...</td>\n",
              "    </tr>\n",
              "    <tr>\n",
              "      <th>t0</th>\n",
              "      <td>0</td>\n",
              "    </tr>\n",
              "    <tr>\n",
              "      <th>t_end</th>\n",
              "      <td>98</td>\n",
              "    </tr>\n",
              "    <tr>\n",
              "      <th>beta</th>\n",
              "      <td>0.333333</td>\n",
              "    </tr>\n",
              "    <tr>\n",
              "      <th>gamma</th>\n",
              "      <td>0.25</td>\n",
              "    </tr>\n",
              "  </tbody>\n",
              "</table>\n",
              "</div>"
            ]
          },
          "metadata": {},
          "execution_count": 27
        }
      ],
      "source": [
        "tc = 3  # time between contacts in days\n",
        "tr = 4  # recovery time in days\n",
        "\n",
        "beta = 1 / tc  # contact rate in per day\n",
        "gamma = 1 / tr  # recovery rate in per day\n",
        "\n",
        "system = make_system(beta, gamma)"
      ]
    },
    {
      "cell_type": "markdown",
      "metadata": {
        "id": "rgNvZyb-gF67"
      },
      "source": [
        "And run the model without immunization."
      ]
    },
    {
      "cell_type": "code",
      "execution_count": 28,
      "metadata": {
        "id": "-1zrq8BqgF68",
        "colab": {
          "base_uri": "https://localhost:8080/"
        },
        "outputId": "667cfbff-d24c-4502-8903-fc6131214635"
      },
      "outputs": [
        {
          "output_type": "execute_result",
          "data": {
            "text/plain": [
              "0.468320811028781"
            ]
          },
          "metadata": {},
          "execution_count": 28
        }
      ],
      "source": [
        "results = run_simulation(system, update_func)\n",
        "calc_total_infected(results)"
      ]
    },
    {
      "cell_type": "markdown",
      "metadata": {
        "id": "lkE4bSJqgF68"
      },
      "source": [
        "Now with 10% immunization."
      ]
    },
    {
      "cell_type": "code",
      "execution_count": 29,
      "metadata": {
        "id": "qQx1tGavgF69",
        "colab": {
          "base_uri": "https://localhost:8080/"
        },
        "outputId": "ecbd7aad-774c-4310-9cc3-39a64f81be02"
      },
      "outputs": [
        {
          "output_type": "execute_result",
          "data": {
            "text/plain": [
              "0.30650802853979753"
            ]
          },
          "metadata": {},
          "execution_count": 29
        }
      ],
      "source": [
        "system2 = make_system(beta, gamma)\n",
        "add_immunization(system2, 0.1)\n",
        "results2 = run_simulation(system2, update_func)\n",
        "calc_total_infected(results2)"
      ]
    },
    {
      "cell_type": "markdown",
      "metadata": {
        "id": "2DTC_8JpgF69"
      },
      "source": [
        "10% immunization leads to a drop in infections of 16 percentage points.\n",
        "\n",
        "Here's what the time series looks like for S, with and without immunization."
      ]
    },
    {
      "cell_type": "code",
      "execution_count": 30,
      "metadata": {
        "id": "ykTBSOengF69",
        "colab": {
          "base_uri": "https://localhost:8080/",
          "height": 473
        },
        "outputId": "d10177ec-31e4-46c0-d6d4-3349012b4f6e"
      },
      "outputs": [
        {
          "output_type": "display_data",
          "data": {
            "text/plain": [
              "<Figure size 640x480 with 1 Axes>"
            ],
            "image/png": "[encoded data removed]"
          },
          "metadata": {}
        }
      ],
      "source": [
        "plot(results.S, '-', label='No immunization')\n",
        "plot(results2.S, '--', label='10% immunization')\n",
        "\n",
        "decorate(xlabel='Time (days)',\n",
        "         ylabel='Fraction susceptible')\n",
        "\n",
        "# savefig('figs/chap12-fig01.pdf')"
      ]
    },
    {
      "cell_type": "markdown",
      "metadata": {
        "id": "RHlYECStgF6-"
      },
      "source": [
        "Now we can sweep through a range of values for the fraction of the population who are immunized."
      ]
    },
    {
      "cell_type": "code",
      "execution_count": 31,
      "metadata": {
        "id": "im1pLrPRgF6-",
        "colab": {
          "base_uri": "https://localhost:8080/"
        },
        "outputId": "aa307d1d-c96a-44dc-a968-982294e66481"
      },
      "outputs": [
        {
          "output_type": "stream",
          "name": "stdout",
          "text": [
            "0.0 0.468320811028781\n",
            "0.1 0.30650802853979753\n",
            "0.2 0.16136545700638427\n",
            "0.30000000000000004 0.0728155898425179\n",
            "0.4 0.03552021675299155\n",
            "0.5 0.019688715782459176\n",
            "0.6000000000000001 0.011622057998337987\n",
            "0.7000000000000001 0.006838737800619332\n",
            "0.8 0.003696496253713877\n",
            "0.9 0.0014815326722661948\n",
            "1.0 -0.00016121210941239666\n"
          ]
        }
      ],
      "source": [
        "immunize_array = linspace(0, 1, 11)\n",
        "for fraction in immunize_array:\n",
        "    system = make_system(beta, gamma)\n",
        "    add_immunization(system, fraction)\n",
        "    results = run_simulation(system, update_func)\n",
        "    print(fraction, calc_total_infected(results))"
      ]
    },
    {
      "cell_type": "markdown",
      "metadata": {
        "id": "001R8QCBgF6-"
      },
      "source": [
        "This function does the same thing and stores the results in a `Sweep` object."
      ]
    },
    {
      "cell_type": "code",
      "execution_count": 32,
      "metadata": {
        "id": "ldFqEIllgF6_"
      },
      "outputs": [],
      "source": [
        "def sweep_immunity(immunize_array):\n",
        "    \"\"\"Sweeps a range of values for immunity.\n",
        "\n",
        "    immunize_array: array of fraction immunized\n",
        "\n",
        "    returns: Sweep object\n",
        "    \"\"\"\n",
        "    sweep = SweepSeries()\n",
        "\n",
        "    for fraction in immunize_array:\n",
        "        system = make_system(beta, gamma)\n",
        "        add_immunization(system, fraction)\n",
        "        results = run_simulation(system, update_func)\n",
        "        sweep[fraction] = calc_total_infected(results)\n",
        "\n",
        "    return sweep"
      ]
    },
    {
      "cell_type": "markdown",
      "metadata": {
        "id": "eG8GZ6jKgF6_"
      },
      "source": [
        "Here's how we run it."
      ]
    },
    {
      "cell_type": "code",
      "execution_count": 33,
      "metadata": {
        "scrolled": true,
        "id": "cyUbf6oZgF6_",
        "colab": {
          "base_uri": "https://localhost:8080/",
          "height": 700
        },
        "outputId": "9411f3ad-67d4-485e-fdbc-b745b1a6b1bd"
      },
      "outputs": [
        {
          "output_type": "execute_result",
          "data": {
            "text/plain": [
              "0.00    0.468321\n",
              "0.05    0.387288\n",
              "0.10    0.306508\n",
              "0.15    0.229234\n",
              "0.20    0.161365\n",
              "0.25    0.108791\n",
              "0.30    0.072816\n",
              "0.35    0.049938\n",
              "0.40    0.035520\n",
              "0.45    0.026121\n",
              "0.50    0.019689\n",
              "0.55    0.015072\n",
              "0.60    0.011622\n",
              "0.65    0.008956\n",
              "0.70    0.006839\n",
              "0.75    0.005119\n",
              "0.80    0.003696\n",
              "0.85    0.002500\n",
              "0.90    0.001482\n",
              "0.95    0.000603\n",
              "1.00   -0.000161\n",
              "dtype: float64"
            ],
            "text/html": [
              "<div>\n",
              "<style scoped>\n",
              "    .dataframe tbody tr th:only-of-type {\n",
              "        vertical-align: middle;\n",
              "    }\n",
              "\n",
              "    .dataframe tbody tr th {\n",
              "        vertical-align: top;\n",
              "    }\n",
              "\n",
              "    .dataframe thead th {\n",
              "        text-align: right;\n",
              "    }\n",
              "</style>\n",
              "<table border=\"1\" class=\"dataframe\">\n",
              "  <thead>\n",
              "    <tr style=\"text-align: right;\">\n",
              "      <th></th>\n",
              "      <th>values</th>\n",
              "    </tr>\n",
              "  </thead>\n",
              "  <tbody>\n",
              "    <tr>\n",
              "      <th>0.00</th>\n",
              "      <td>0.468321</td>\n",
              "    </tr>\n",
              "    <tr>\n",
              "      <th>0.05</th>\n",
              "      <td>0.387288</td>\n",
              "    </tr>\n",
              "    <tr>\n",
              "      <th>0.10</th>\n",
              "      <td>0.306508</td>\n",
              "    </tr>\n",
              "    <tr>\n",
              "      <th>0.15</th>\n",
              "      <td>0.229234</td>\n",
              "    </tr>\n",
              "    <tr>\n",
              "      <th>0.20</th>\n",
              "      <td>0.161365</td>\n",
              "    </tr>\n",
              "    <tr>\n",
              "      <th>0.25</th>\n",
              "      <td>0.108791</td>\n",
              "    </tr>\n",
              "    <tr>\n",
              "      <th>0.30</th>\n",
              "      <td>0.072816</td>\n",
              "    </tr>\n",
              "    <tr>\n",
              "      <th>0.35</th>\n",
              "      <td>0.049938</td>\n",
              "    </tr>\n",
              "    <tr>\n",
              "      <th>0.40</th>\n",
              "      <td>0.035520</td>\n",
              "    </tr>\n",
              "    <tr>\n",
              "      <th>0.45</th>\n",
              "      <td>0.026121</td>\n",
              "    </tr>\n",
              "    <tr>\n",
              "      <th>0.50</th>\n",
              "      <td>0.019689</td>\n",
              "    </tr>\n",
              "    <tr>\n",
              "      <th>0.55</th>\n",
              "      <td>0.015072</td>\n",
              "    </tr>\n",
              "    <tr>\n",
              "      <th>0.60</th>\n",
              "      <td>0.011622</td>\n",
              "    </tr>\n",
              "    <tr>\n",
              "      <th>0.65</th>\n",
              "      <td>0.008956</td>\n",
              "    </tr>\n",
              "    <tr>\n",
              "      <th>0.70</th>\n",
              "      <td>0.006839</td>\n",
              "    </tr>\n",
              "    <tr>\n",
              "      <th>0.75</th>\n",
              "      <td>0.005119</td>\n",
              "    </tr>\n",
              "    <tr>\n",
              "      <th>0.80</th>\n",
              "      <td>0.003696</td>\n",
              "    </tr>\n",
              "    <tr>\n",
              "      <th>0.85</th>\n",
              "      <td>0.002500</td>\n",
              "    </tr>\n",
              "    <tr>\n",
              "      <th>0.90</th>\n",
              "      <td>0.001482</td>\n",
              "    </tr>\n",
              "    <tr>\n",
              "      <th>0.95</th>\n",
              "      <td>0.000603</td>\n",
              "    </tr>\n",
              "    <tr>\n",
              "      <th>1.00</th>\n",
              "      <td>-0.000161</td>\n",
              "    </tr>\n",
              "  </tbody>\n",
              "</table>\n",
              "</div>"
            ]
          },
          "metadata": {},
          "execution_count": 33
        }
      ],
      "source": [
        "immunize_array = linspace(0, 1, 21)\n",
        "infected_sweep = sweep_immunity(immunize_array)"
      ]
    },
    {
      "cell_type": "markdown",
      "metadata": {
        "id": "aH78oYgogF6_"
      },
      "source": [
        "And here's what the results look like."
      ]
    },
    {
      "cell_type": "code",
      "execution_count": 34,
      "metadata": {
        "id": "QMt3LNipgF6_",
        "colab": {
          "base_uri": "https://localhost:8080/",
          "height": 473
        },
        "outputId": "e4981e21-b307-4d86-a73c-5a366f7b995a"
      },
      "outputs": [
        {
          "output_type": "display_data",
          "data": {
            "text/plain": [
              "<Figure size 640x480 with 1 Axes>"
            ],
            "image/png": "[encoded data removed]"
          },
          "metadata": {}
        }
      ],
      "source": [
        "plot(infected_sweep)\n",
        "\n",
        "decorate(xlabel='Fraction immunized',\n",
        "         ylabel='Total fraction infected',\n",
        "         title='Fraction infected vs. immunization rate',\n",
        "         legend=False)\n",
        "\n",
        "# savefig('figs/chap12-fig02.pdf')"
      ]
    },
    {
      "cell_type": "markdown",
      "metadata": {
        "id": "fX8XpJIqgF7A"
      },
      "source": [
        "If 40% of the population is immunized, less than 4% of the population gets sick."
      ]
    },
    {
      "cell_type": "markdown",
      "metadata": {
        "id": "d426DkqzgF7A"
      },
      "source": [
        "### Logistic function"
      ]
    },
    {
      "cell_type": "markdown",
      "metadata": {
        "id": "nHOtRkg3gF7A"
      },
      "source": [
        "To model the effect of a hand-washing campaign, I'll use a [generalized logistic function](https://en.wikipedia.org/wiki/Generalised_logistic_function) (GLF), which is a convenient function for modeling curves that have a generally sigmoid shape.  The parameters of the GLF correspond to various features of the curve in a way that makes it easy to find a function that has the shape you want, based on data or background information about the scenario."
      ]
    },
    {
      "cell_type": "code",
      "execution_count": 35,
      "metadata": {
        "id": "i54Xm8YWgF7A"
      },
      "outputs": [],
      "source": [
        "def logistic(x, A=0, B=1, C=1, M=0, K=1, Q=1, nu=1):\n",
        "    \"\"\"Computes the generalize logistic function.\n",
        "\n",
        "    A: controls the lower bound\n",
        "    B: controls the steepness of the transition\n",
        "    C: not all that useful, AFAIK\n",
        "    M: controls the location of the transition\n",
        "    K: controls the upper bound\n",
        "    Q: shift the transition left or right\n",
        "    nu: affects the symmetry of the transition\n",
        "\n",
        "    returns: float or array\n",
        "    \"\"\"\n",
        "    exponent = -B * (x - M)\n",
        "    denom = C + Q * exp(exponent)\n",
        "    return A + (K-A) / denom ** (1/nu)"
      ]
    },
    {
      "cell_type": "markdown",
      "metadata": {
        "id": "K7G7twhygF7B"
      },
      "source": [
        "The following array represents the range of possible spending."
      ]
    },
    {
      "cell_type": "code",
      "execution_count": 36,
      "metadata": {
        "id": "SRVWwIrDgF7B",
        "colab": {
          "base_uri": "https://localhost:8080/"
        },
        "outputId": "e8b832ae-1209-40be-ab8f-78551feed2b8"
      },
      "outputs": [
        {
          "output_type": "execute_result",
          "data": {
            "text/plain": [
              "array([   0.,   60.,  120.,  180.,  240.,  300.,  360.,  420.,  480.,\n",
              "        540.,  600.,  660.,  720.,  780.,  840.,  900.,  960., 1020.,\n",
              "       1080., 1140., 1200.])"
            ]
          },
          "metadata": {},
          "execution_count": 36
        }
      ],
      "source": [
        "spending = linspace(0, 1200, 21)"
      ]
    },
    {
      "cell_type": "markdown",
      "metadata": {
        "id": "QHaltDkggF7B"
      },
      "source": [
        "`compute_factor` computes the reduction in `beta` for a given level of campaign spending.\n",
        "\n",
        "`M` is chosen so the transition happens around \\$500.\n",
        "\n",
        "`K` is the maximum reduction in `beta`, 20%.\n",
        "\n",
        "`B` is chosen by trial and error to yield a curve that seems feasible."
      ]
    },
    {
      "cell_type": "code",
      "execution_count": 37,
      "metadata": {
        "id": "ndaM_vbAgF7C"
      },
      "outputs": [],
      "source": [
        "def compute_factor(spending):\n",
        "    \"\"\"Reduction factor as a function of spending.\n",
        "\n",
        "    spending: dollars from 0 to 1200\n",
        "\n",
        "    returns: fractional reduction in beta\n",
        "    \"\"\"\n",
        "    return logistic(spending, M=500, K=0.2, B=0.01)"
      ]
    },
    {
      "cell_type": "markdown",
      "metadata": {
        "id": "tAhOa0NMgF7C"
      },
      "source": [
        "Here's what it looks like."
      ]
    },
    {
      "cell_type": "code",
      "execution_count": 38,
      "metadata": {
        "id": "N-aZK45hgF7C",
        "colab": {
          "base_uri": "https://localhost:8080/",
          "height": 473
        },
        "outputId": "793b0a9c-01a6-4402-e6c1-77c9d7fd1ee7"
      },
      "outputs": [
        {
          "output_type": "display_data",
          "data": {
            "text/plain": [
              "<Figure size 640x480 with 1 Axes>"
            ],
            "image/png": "[encoded data removed]"
          },
          "metadata": {}
        }
      ],
      "source": [
        "percent_reduction = compute_factor(spending) * 100\n",
        "\n",
        "plot(spending, percent_reduction)\n",
        "\n",
        "decorate(xlabel='Hand-washing campaign spending (USD)',\n",
        "         ylabel='Percent reduction in infection rate',\n",
        "         title='Effect of hand washing on infection rate',\n",
        "         legend=False)"
      ]
    },
    {
      "cell_type": "markdown",
      "metadata": {
        "id": "a5Wcs_NNgF7C"
      },
      "source": [
        "**Exercise:** Modify the parameters `M`, `K`, and `B`, and see what effect they have on the shape of the curve.  Read about the [generalized logistic function on Wikipedia](https://en.wikipedia.org/wiki/Generalised_logistic_function).  Modify the other parameters and see what effect they have."
      ]
    },
    {
      "cell_type": "code",
      "source": [],
      "metadata": {
        "id": "HKTrIo9QgeZy"
      },
      "execution_count": null,
      "outputs": []
    },
    {
      "cell_type": "markdown",
      "metadata": {
        "id": "p8WhkKQdgF7D"
      },
      "source": [
        "### Hand washing"
      ]
    },
    {
      "cell_type": "markdown",
      "metadata": {
        "id": "7asm7poSgF7D"
      },
      "source": [
        "Now we can model the effect of a hand-washing campaign by modifying `beta`"
      ]
    },
    {
      "cell_type": "code",
      "execution_count": 39,
      "metadata": {
        "id": "hIWwTar1gF7D"
      },
      "outputs": [],
      "source": [
        "def add_hand_washing(system, spending):\n",
        "    \"\"\"Modifies system to model the effect of hand washing.\n",
        "\n",
        "    system: System object\n",
        "    spending: campaign spending in USD\n",
        "    \"\"\"\n",
        "    factor = compute_factor(spending)\n",
        "    system.beta *= (1 - factor)"
      ]
    },
    {
      "cell_type": "markdown",
      "metadata": {
        "id": "-X8IkPMHgF7D"
      },
      "source": [
        "Let's start with the same values of `beta` and `gamma` we've been using."
      ]
    },
    {
      "cell_type": "code",
      "execution_count": 40,
      "metadata": {
        "id": "bmJRwkzRgF7D",
        "colab": {
          "base_uri": "https://localhost:8080/"
        },
        "outputId": "e340b60d-a4a5-4909-901a-46c77a6e0d02"
      },
      "outputs": [
        {
          "output_type": "execute_result",
          "data": {
            "text/plain": [
              "(0.3333333333333333, 0.25)"
            ]
          },
          "metadata": {},
          "execution_count": 40
        }
      ],
      "source": [
        "tc = 3      # time between contacts in days\n",
        "tr = 4      # recovery time in days\n",
        "\n",
        "beta = 1 / tc      # contact rate in per day\n",
        "gamma = 1 / tr     # recovery rate in per day\n",
        "\n",
        "beta, gamma"
      ]
    },
    {
      "cell_type": "markdown",
      "metadata": {
        "id": "D8hk7cmJgF7D"
      },
      "source": [
        "Now we can sweep different levels of campaign spending."
      ]
    },
    {
      "cell_type": "code",
      "execution_count": 41,
      "metadata": {
        "id": "58rt7g-6gF7E",
        "colab": {
          "base_uri": "https://localhost:8080/"
        },
        "outputId": "b900c4ce-a850-481d-fcd6-35580f07fa81"
      },
      "outputs": [
        {
          "output_type": "stream",
          "name": "stdout",
          "text": [
            "0.0 0.3328871432717143 0.4667702312363652\n",
            "100.0 0.3321342526691939 0.46414165040064037\n",
            "200.0 0.33017160845482885 0.4572170063132055\n",
            "300.0 0.32538647186519215 0.4398872029120663\n",
            "400.0 0.3154039052420003 0.40163064627138245\n",
            "500.0 0.3 0.3370342594898199\n",
            "600.0 0.28459609475799963 0.26731703056804546\n",
            "700.0 0.2746135281348078 0.22184699045990752\n",
            "800.0 0.26982839154517113 0.20079159841614402\n",
            "900.0 0.2678657473308061 0.1923921833925878\n",
            "1000.0 0.26711285672828566 0.18921320781833872\n",
            "1100.0 0.26683150821044227 0.18803175228016467\n",
            "1200.0 0.26672740341296003 0.1875955039953746\n"
          ]
        }
      ],
      "source": [
        "spending_array = linspace(0, 1200, 13)\n",
        "\n",
        "for spending in spending_array:\n",
        "    system = make_system(beta, gamma)\n",
        "    add_hand_washing(system, spending)\n",
        "    results = run_simulation(system, update_func)\n",
        "    print(spending, system.beta, calc_total_infected(results))"
      ]
    },
    {
      "cell_type": "markdown",
      "metadata": {
        "id": "uCXJMkDDgF7E"
      },
      "source": [
        "Here's a function that sweeps a range of spending and stores the results in a `SweepSeries`."
      ]
    },
    {
      "cell_type": "code",
      "execution_count": 42,
      "metadata": {
        "id": "PsBarlJngF7E"
      },
      "outputs": [],
      "source": [
        "def sweep_hand_washing(spending_array):\n",
        "    \"\"\"Run simulations with a range of spending.\n",
        "\n",
        "    spending_array: array of dollars from 0 to 1200\n",
        "\n",
        "    returns: Sweep object\n",
        "    \"\"\"\n",
        "    sweep = SweepSeries()\n",
        "\n",
        "    for spending in spending_array:\n",
        "        system = make_system(beta, gamma)\n",
        "        add_hand_washing(system, spending)\n",
        "        results = run_simulation(system, update_func)\n",
        "        sweep[spending] = calc_total_infected(results)\n",
        "\n",
        "    return sweep"
      ]
    },
    {
      "cell_type": "markdown",
      "metadata": {
        "id": "gDjPJ_INgF7E"
      },
      "source": [
        "Here's how we run it."
      ]
    },
    {
      "cell_type": "code",
      "execution_count": 43,
      "metadata": {
        "id": "S6JKpXXVgF7E",
        "colab": {
          "base_uri": "https://localhost:8080/",
          "height": 669
        },
        "outputId": "9ec2828a-f41a-4a41-fdc1-452d5e552ec4"
      },
      "outputs": [
        {
          "output_type": "execute_result",
          "data": {
            "text/plain": [
              "0.000000       0.466770\n",
              "63.157895      0.465418\n",
              "126.315789     0.462905\n",
              "189.473684     0.458291\n",
              "252.631579     0.449980\n",
              "315.789474     0.435540\n",
              "378.947368     0.411960\n",
              "442.105263     0.377183\n",
              "505.263158     0.333171\n",
              "568.421053     0.287633\n",
              "631.578947     0.249745\n",
              "694.736842     0.223529\n",
              "757.894737     0.207480\n",
              "821.052632     0.198306\n",
              "884.210526     0.193244\n",
              "947.368421     0.190500\n",
              "1010.526316    0.189027\n",
              "1073.684211    0.188239\n",
              "1136.842105    0.187819\n",
              "1200.000000    0.187596\n",
              "dtype: float64"
            ],
            "text/html": [
              "<div>\n",
              "<style scoped>\n",
              "    .dataframe tbody tr th:only-of-type {\n",
              "        vertical-align: middle;\n",
              "    }\n",
              "\n",
              "    .dataframe tbody tr th {\n",
              "        vertical-align: top;\n",
              "    }\n",
              "\n",
              "    .dataframe thead th {\n",
              "        text-align: right;\n",
              "    }\n",
              "</style>\n",
              "<table border=\"1\" class=\"dataframe\">\n",
              "  <thead>\n",
              "    <tr style=\"text-align: right;\">\n",
              "      <th></th>\n",
              "      <th>values</th>\n",
              "    </tr>\n",
              "  </thead>\n",
              "  <tbody>\n",
              "    <tr>\n",
              "      <th>0.000000</th>\n",
              "      <td>0.466770</td>\n",
              "    </tr>\n",
              "    <tr>\n",
              "      <th>63.157895</th>\n",
              "      <td>0.465418</td>\n",
              "    </tr>\n",
              "    <tr>\n",
              "      <th>126.315789</th>\n",
              "      <td>0.462905</td>\n",
              "    </tr>\n",
              "    <tr>\n",
              "      <th>189.473684</th>\n",
              "      <td>0.458291</td>\n",
              "    </tr>\n",
              "    <tr>\n",
              "      <th>252.631579</th>\n",
              "      <td>0.449980</td>\n",
              "    </tr>\n",
              "    <tr>\n",
              "      <th>315.789474</th>\n",
              "      <td>0.435540</td>\n",
              "    </tr>\n",
              "    <tr>\n",
              "      <th>378.947368</th>\n",
              "      <td>0.411960</td>\n",
              "    </tr>\n",
              "    <tr>\n",
              "      <th>442.105263</th>\n",
              "      <td>0.377183</td>\n",
              "    </tr>\n",
              "    <tr>\n",
              "      <th>505.263158</th>\n",
              "      <td>0.333171</td>\n",
              "    </tr>\n",
              "    <tr>\n",
              "      <th>568.421053</th>\n",
              "      <td>0.287633</td>\n",
              "    </tr>\n",
              "    <tr>\n",
              "      <th>631.578947</th>\n",
              "      <td>0.249745</td>\n",
              "    </tr>\n",
              "    <tr>\n",
              "      <th>694.736842</th>\n",
              "      <td>0.223529</td>\n",
              "    </tr>\n",
              "    <tr>\n",
              "      <th>757.894737</th>\n",
              "      <td>0.207480</td>\n",
              "    </tr>\n",
              "    <tr>\n",
              "      <th>821.052632</th>\n",
              "      <td>0.198306</td>\n",
              "    </tr>\n",
              "    <tr>\n",
              "      <th>884.210526</th>\n",
              "      <td>0.193244</td>\n",
              "    </tr>\n",
              "    <tr>\n",
              "      <th>947.368421</th>\n",
              "      <td>0.190500</td>\n",
              "    </tr>\n",
              "    <tr>\n",
              "      <th>1010.526316</th>\n",
              "      <td>0.189027</td>\n",
              "    </tr>\n",
              "    <tr>\n",
              "      <th>1073.684211</th>\n",
              "      <td>0.188239</td>\n",
              "    </tr>\n",
              "    <tr>\n",
              "      <th>1136.842105</th>\n",
              "      <td>0.187819</td>\n",
              "    </tr>\n",
              "    <tr>\n",
              "      <th>1200.000000</th>\n",
              "      <td>0.187596</td>\n",
              "    </tr>\n",
              "  </tbody>\n",
              "</table>\n",
              "</div>"
            ]
          },
          "metadata": {},
          "execution_count": 43
        }
      ],
      "source": [
        "spending_array = linspace(0, 1200, 20)\n",
        "infected_sweep = sweep_hand_washing(spending_array)"
      ]
    },
    {
      "cell_type": "markdown",
      "metadata": {
        "id": "AQKarz7TgF7F"
      },
      "source": [
        "And here's what it looks like."
      ]
    },
    {
      "cell_type": "code",
      "execution_count": 44,
      "metadata": {
        "id": "r5ojXi7BgF7F",
        "colab": {
          "base_uri": "https://localhost:8080/",
          "height": 473
        },
        "outputId": "63a8c2ce-20f5-4b08-8b85-de9d9ab30935"
      },
      "outputs": [
        {
          "output_type": "display_data",
          "data": {
            "text/plain": [
              "<Figure size 640x480 with 1 Axes>"
            ],
            "image/png": "[encoded data removed]"
          },
          "metadata": {}
        }
      ],
      "source": [
        "plot(infected_sweep)\n",
        "\n",
        "decorate(xlabel='Hand-washing campaign spending (USD)',\n",
        "         ylabel='Total fraction infected',\n",
        "         title='Effect of hand washing on total infections',\n",
        "         legend=False)\n",
        "\n",
        "# savefig('figs/chap12-fig03.pdf')"
      ]
    },
    {
      "cell_type": "markdown",
      "metadata": {
        "id": "L2Sz2q9NgF7F"
      },
      "source": [
        "Now let's put it all together to make some public health spending decisions."
      ]
    },
    {
      "cell_type": "markdown",
      "metadata": {
        "id": "9hyoeDqHgF7F"
      },
      "source": [
        "### Optimization"
      ]
    },
    {
      "cell_type": "markdown",
      "metadata": {
        "id": "InH1zeMFgF7F"
      },
      "source": [
        "Suppose we have \\$1200 to spend on any combination of vaccines and a hand-washing campaign."
      ]
    },
    {
      "cell_type": "code",
      "execution_count": 45,
      "metadata": {
        "id": "EFNJ8aFJgF7G",
        "colab": {
          "base_uri": "https://localhost:8080/"
        },
        "outputId": "3670a919-0415-47e2-ecec-dd45f54366a7"
      },
      "outputs": [
        {
          "output_type": "execute_result",
          "data": {
            "text/plain": [
              "12"
            ]
          },
          "metadata": {},
          "execution_count": 45
        }
      ],
      "source": [
        "num_students = 90\n",
        "budget = 1200\n",
        "price_per_dose = 100\n",
        "max_doses = int(budget / price_per_dose)\n",
        "dose_array = linrange(max_doses, endpoint=True)\n",
        "max_doses"
      ]
    },
    {
      "cell_type": "markdown",
      "metadata": {
        "id": "jvT6JT8egF7G"
      },
      "source": [
        "We can sweep through a range of doses from, 0 to `max_doses`, model the effects of immunization and the hand-washing campaign, and run simulations.\n",
        "\n",
        "For each scenario, we compute the fraction of students who get sick."
      ]
    },
    {
      "cell_type": "code",
      "execution_count": 46,
      "metadata": {
        "id": "el-BvvGTgF7G",
        "colab": {
          "base_uri": "https://localhost:8080/"
        },
        "outputId": "56fadf50-1017-4b53-880c-f9e746efebe0"
      },
      "outputs": [
        {
          "output_type": "stream",
          "name": "stdout",
          "text": [
            "0 0.9888888888888889 0.26672740341296003 0.1875955039953746\n",
            "1 0.9777777777777779 0.26683150821044227 0.17458071882622528\n",
            "2 0.9666666666666667 0.26711285672828566 0.16290983834857686\n",
            "3 0.9555555555555556 0.2678657473308061 0.15350834947768177\n",
            "4 0.9444444444444445 0.26982839154517113 0.1485650923152827\n",
            "5 0.9333333333333333 0.2746135281348078 0.15294595061102179\n",
            "6 0.9222222222222223 0.28459609475799963 0.1749644150235239\n",
            "7 0.9111111111111112 0.3 0.21734316168444845\n",
            "8 0.9 0.3154039052420003 0.2590710444883414\n",
            "9 0.888888888888889 0.32538647186519215 0.27840288410342784\n",
            "10 0.8777777777777778 0.33017160845482885 0.2779145346228302\n",
            "11 0.8666666666666667 0.3321342526691939 0.2673574966927026\n",
            "12 0.8555555555555556 0.3328871432717143 0.25279694563572175\n"
          ]
        }
      ],
      "source": [
        "for doses in dose_array:\n",
        "    fraction = doses / num_students\n",
        "    spending = budget - doses * price_per_dose\n",
        "\n",
        "    system = make_system(beta, gamma)\n",
        "    add_immunization(system, fraction)\n",
        "    add_hand_washing(system, spending)\n",
        "\n",
        "    results = run_simulation(system, update_func)\n",
        "    print(doses, system.init.S, system.beta, calc_total_infected(results))"
      ]
    },
    {
      "cell_type": "markdown",
      "metadata": {
        "id": "REmz0uxSgF7G"
      },
      "source": [
        "The following function wraps that loop and stores the results in a `Sweep` object."
      ]
    },
    {
      "cell_type": "code",
      "execution_count": 47,
      "metadata": {
        "id": "ef4BYe7tgF7H"
      },
      "outputs": [],
      "source": [
        "def sweep_doses(dose_array):\n",
        "    \"\"\"Runs simulations with different doses and campaign spending.\n",
        "\n",
        "    dose_array: range of values for number of vaccinations\n",
        "\n",
        "    return: Sweep object with total number of infections\n",
        "    \"\"\"\n",
        "    sweep = SweepSeries()\n",
        "\n",
        "    for doses in dose_array:\n",
        "        fraction = doses / num_students\n",
        "        spending = budget - doses * price_per_dose\n",
        "\n",
        "        system = make_system(beta, gamma)\n",
        "        add_immunization(system, fraction)\n",
        "        add_hand_washing(system, spending)\n",
        "\n",
        "        results = run_simulation(system, update_func)\n",
        "        sweep[doses] = calc_total_infected(results)\n",
        "\n",
        "    return sweep"
      ]
    },
    {
      "cell_type": "markdown",
      "metadata": {
        "id": "1t2Dsd4MgF7H"
      },
      "source": [
        "Now we can compute the number of infected students for each possible allocation of the budget."
      ]
    },
    {
      "cell_type": "code",
      "execution_count": 48,
      "metadata": {
        "id": "Y9m3Q-4mgF7H",
        "colab": {
          "base_uri": "https://localhost:8080/",
          "height": 452
        },
        "outputId": "7d6b36ed-c3a4-4416-bab8-aa4376e4cb29"
      },
      "outputs": [
        {
          "output_type": "execute_result",
          "data": {
            "text/plain": [
              "0     0.187596\n",
              "1     0.174581\n",
              "2     0.162910\n",
              "3     0.153508\n",
              "4     0.148565\n",
              "5     0.152946\n",
              "6     0.174964\n",
              "7     0.217343\n",
              "8     0.259071\n",
              "9     0.278403\n",
              "10    0.277915\n",
              "11    0.267357\n",
              "12    0.252797\n",
              "dtype: float64"
            ],
            "text/html": [
              "<div>\n",
              "<style scoped>\n",
              "    .dataframe tbody tr th:only-of-type {\n",
              "        vertical-align: middle;\n",
              "    }\n",
              "\n",
              "    .dataframe tbody tr th {\n",
              "        vertical-align: top;\n",
              "    }\n",
              "\n",
              "    .dataframe thead th {\n",
              "        text-align: right;\n",
              "    }\n",
              "</style>\n",
              "<table border=\"1\" class=\"dataframe\">\n",
              "  <thead>\n",
              "    <tr style=\"text-align: right;\">\n",
              "      <th></th>\n",
              "      <th>values</th>\n",
              "    </tr>\n",
              "  </thead>\n",
              "  <tbody>\n",
              "    <tr>\n",
              "      <th>0</th>\n",
              "      <td>0.187596</td>\n",
              "    </tr>\n",
              "    <tr>\n",
              "      <th>1</th>\n",
              "      <td>0.174581</td>\n",
              "    </tr>\n",
              "    <tr>\n",
              "      <th>2</th>\n",
              "      <td>0.162910</td>\n",
              "    </tr>\n",
              "    <tr>\n",
              "      <th>3</th>\n",
              "      <td>0.153508</td>\n",
              "    </tr>\n",
              "    <tr>\n",
              "      <th>4</th>\n",
              "      <td>0.148565</td>\n",
              "    </tr>\n",
              "    <tr>\n",
              "      <th>5</th>\n",
              "      <td>0.152946</td>\n",
              "    </tr>\n",
              "    <tr>\n",
              "      <th>6</th>\n",
              "      <td>0.174964</td>\n",
              "    </tr>\n",
              "    <tr>\n",
              "      <th>7</th>\n",
              "      <td>0.217343</td>\n",
              "    </tr>\n",
              "    <tr>\n",
              "      <th>8</th>\n",
              "      <td>0.259071</td>\n",
              "    </tr>\n",
              "    <tr>\n",
              "      <th>9</th>\n",
              "      <td>0.278403</td>\n",
              "    </tr>\n",
              "    <tr>\n",
              "      <th>10</th>\n",
              "      <td>0.277915</td>\n",
              "    </tr>\n",
              "    <tr>\n",
              "      <th>11</th>\n",
              "      <td>0.267357</td>\n",
              "    </tr>\n",
              "    <tr>\n",
              "      <th>12</th>\n",
              "      <td>0.252797</td>\n",
              "    </tr>\n",
              "  </tbody>\n",
              "</table>\n",
              "</div>"
            ]
          },
          "metadata": {},
          "execution_count": 48
        }
      ],
      "source": [
        "infected_sweep = sweep_doses(dose_array)"
      ]
    },
    {
      "cell_type": "markdown",
      "metadata": {
        "id": "qoiaj9FHgF7H"
      },
      "source": [
        "And plot the results."
      ]
    },
    {
      "cell_type": "code",
      "execution_count": 49,
      "metadata": {
        "id": "rPhe7QJugF7I",
        "colab": {
          "base_uri": "https://localhost:8080/",
          "height": 473
        },
        "outputId": "0ea1b79d-6d9c-49ed-81ae-4d9a14e743f5"
      },
      "outputs": [
        {
          "output_type": "display_data",
          "data": {
            "text/plain": [
              "<Figure size 640x480 with 1 Axes>"
            ],
            "image/png": "[encoded data removed]"
          },
          "metadata": {}
        }
      ],
      "source": [
        "plot(infected_sweep)\n",
        "\n",
        "decorate(xlabel='Doses of vaccine',\n",
        "         ylabel='Total fraction infected',\n",
        "         title='Total infections vs. doses',\n",
        "         legend=False)\n",
        "\n",
        "# savefig('figs/chap12-fig04.pdf')"
      ]
    },
    {
      "cell_type": "markdown",
      "metadata": {
        "id": "wBTQOpUagF7J"
      },
      "source": [
        "### Exercises\n",
        "\n",
        "**Exercise:** Suppose the price of the vaccine drops to $50 per dose.  How does that affect the optimal allocation of the spending?"
      ]
    },
    {
      "cell_type": "code",
      "source": [],
      "metadata": {
        "id": "em9lt4bKgZTI"
      },
      "execution_count": 49,
      "outputs": []
    },
    {
      "cell_type": "markdown",
      "metadata": {
        "id": "jTpDfw1CgF7J"
      },
      "source": [
        "**Exercise:** Suppose we have the option to quarantine infected students.  For example, a student who feels ill might be moved to an infirmary, or a private dorm room, until they are no longer infectious.\n",
        "\n",
        "How might you incorporate the effect of quarantine in the SIR model?"
      ]
    },
    {
      "cell_type": "code",
      "execution_count": 50,
      "metadata": {
        "id": "jNPsaA7SgF7J"
      },
      "outputs": [],
      "source": [
        "# Solution goes here"
      ]
    }
  ],
  "metadata": {
    "kernelspec": {
      "display_name": "Python 3",
      "language": "python",
      "name": "python3"
    },
    "language_info": {
      "codemirror_mode": {
        "name": "ipython",
        "version": 3
      },
      "file_extension": ".py",
      "mimetype": "text/x-python",
      "name": "python",
      "nbconvert_exporter": "python",
      "pygments_lexer": "ipython3",
      "version": "3.7.3"
    },
    "colab": {
      "provenance": [],
      "include_colab_link": true
    }
  },
  "nbformat": 4,
  "nbformat_minor": 0
}